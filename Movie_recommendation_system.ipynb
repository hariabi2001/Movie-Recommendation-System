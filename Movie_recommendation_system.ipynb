{
  "nbformat": 4,
  "nbformat_minor": 0,
  "metadata": {
    "colab": {
      "provenance": []
    },
    "kernelspec": {
      "name": "python3",
      "display_name": "Python 3"
    },
    "language_info": {
      "name": "python"
    }
  },
  "cells": [
    {
      "cell_type": "markdown",
      "source": [
        "# Import libraries"
      ],
      "metadata": {
        "id": "DKNMheg1PF3b"
      }
    },
    {
      "cell_type": "code",
      "execution_count": null,
      "metadata": {
        "id": "D4VqbwDcBOsP",
        "colab": {
          "base_uri": "https://localhost:8080/"
        },
        "outputId": "5501d330-f7a4-47fa-aab6-c1aff1fef5f7"
      },
      "outputs": [
        {
          "output_type": "stream",
          "name": "stdout",
          "text": [
            "Looking in indexes: https://pypi.org/simple, https://us-python.pkg.dev/colab-wheels/public/simple/\n",
            "Collecting surprise\n",
            "  Downloading surprise-0.1-py2.py3-none-any.whl (1.8 kB)\n",
            "Collecting scikit-surprise (from surprise)\n",
            "  Downloading scikit-surprise-1.1.3.tar.gz (771 kB)\n",
            "\u001b[2K     \u001b[90m━━━━━━━━━━━━━━━━━━━━━━━━━━━━━━━━━━━━━━\u001b[0m \u001b[32m772.0/772.0 kB\u001b[0m \u001b[31m11.8 MB/s\u001b[0m eta \u001b[36m0:00:00\u001b[0m\n",
            "\u001b[?25h  Preparing metadata (setup.py) ... \u001b[?25l\u001b[?25hdone\n",
            "Requirement already satisfied: joblib>=1.0.0 in /usr/local/lib/python3.10/dist-packages (from scikit-surprise->surprise) (1.2.0)\n",
            "Requirement already satisfied: numpy>=1.17.3 in /usr/local/lib/python3.10/dist-packages (from scikit-surprise->surprise) (1.22.4)\n",
            "Requirement already satisfied: scipy>=1.3.2 in /usr/local/lib/python3.10/dist-packages (from scikit-surprise->surprise) (1.10.1)\n",
            "Building wheels for collected packages: scikit-surprise\n",
            "  Building wheel for scikit-surprise (setup.py) ... \u001b[?25l\u001b[?25hdone\n",
            "  Created wheel for scikit-surprise: filename=scikit_surprise-1.1.3-cp310-cp310-linux_x86_64.whl size=3095398 sha256=6d23883b0850656db6795e5138b55679e54e854da81e58331d2d1c77ecf373ad\n",
            "  Stored in directory: /root/.cache/pip/wheels/a5/ca/a8/4e28def53797fdc4363ca4af740db15a9c2f1595ebc51fb445\n",
            "Successfully built scikit-surprise\n",
            "Installing collected packages: scikit-surprise, surprise\n",
            "Successfully installed scikit-surprise-1.1.3 surprise-0.1\n"
          ]
        }
      ],
      "source": [
        "# Importing the libraries\n",
        "import numpy as np\n",
        "import pandas as pd\n",
        "import matplotlib.pyplot as plt\n",
        "import seaborn as sns\n",
        "from scipy import stats # Statistical functions\n",
        "from ast import literal_eval # Safely evaluate strings containing Python expressions and literals\n",
        "from sklearn.feature_extraction.text import TfidfVectorizer, CountVectorizer # Converting text data into numerical representations suitable for ML models\n",
        "from sklearn.metrics.pairwise import linear_kernel, cosine_similarity # Compute similarity scores between vectors\n",
        "from nltk.stem.snowball import SnowballStemmer # Used for stemming words\n",
        "from nltk.stem.wordnet import WordNetLemmatizer # Used to convert into lemma\n",
        "from nltk.corpus import wordnet # Semantic relationships\n",
        "!pip install surprise\n",
        "from surprise import Reader, Dataset, SVD # Model creation and analysis for Recommender systems\n",
        "from surprise.model_selection import cross_validate"
      ]
    },
    {
      "cell_type": "markdown",
      "source": [
        "# Simple Recommender"
      ],
      "metadata": {
        "id": "KjDVxgg_PNKp"
      }
    },
    {
      "cell_type": "code",
      "source": [
        "# Simple Recommender\n",
        "# Based on movie popularity (Higher probability of being liked by the average audience) and\n",
        "# genre recommend movies\n",
        "# Doesn't give personalized recommendations based on the user\n",
        "# Sort our movies based on ratings and popularity (Top movies of our list displayed)\n",
        "# Pass genre to get top movies of a particular genre"
      ],
      "metadata": {
        "id": "n58WVN-2OHsk"
      },
      "execution_count": null,
      "outputs": []
    },
    {
      "cell_type": "code",
      "source": [
        "md = pd.read_csv(\"movies_metadata.csv\")\n",
        "md.head()"
      ],
      "metadata": {
        "colab": {
          "base_uri": "https://localhost:8080/",
          "height": 787
        },
        "id": "3As8U3quPEkW",
        "outputId": "5caad202-9b7b-4607-abe5-f2d044660059"
      },
      "execution_count": null,
      "outputs": [
        {
          "output_type": "stream",
          "name": "stderr",
          "text": [
            "<ipython-input-2-8a15a073e678>:1: DtypeWarning: Columns (10) have mixed types. Specify dtype option on import or set low_memory=False.\n",
            "  md = pd.read_csv(\"movies_metadata.csv\")\n"
          ]
        },
        {
          "output_type": "execute_result",
          "data": {
            "text/plain": [
              "   adult                              belongs_to_collection    budget  \\\n",
              "0  False  {'id': 10194, 'name': 'Toy Story Collection', ...  30000000   \n",
              "1  False                                                NaN  65000000   \n",
              "2  False  {'id': 119050, 'name': 'Grumpy Old Men Collect...         0   \n",
              "3  False                                                NaN  16000000   \n",
              "4  False  {'id': 96871, 'name': 'Father of the Bride Col...         0   \n",
              "\n",
              "                                              genres  \\\n",
              "0  [{'id': 16, 'name': 'Animation'}, {'id': 35, '...   \n",
              "1  [{'id': 12, 'name': 'Adventure'}, {'id': 14, '...   \n",
              "2  [{'id': 10749, 'name': 'Romance'}, {'id': 35, ...   \n",
              "3  [{'id': 35, 'name': 'Comedy'}, {'id': 18, 'nam...   \n",
              "4                     [{'id': 35, 'name': 'Comedy'}]   \n",
              "\n",
              "                               homepage     id    imdb_id original_language  \\\n",
              "0  http://toystory.disney.com/toy-story    862  tt0114709                en   \n",
              "1                                   NaN   8844  tt0113497                en   \n",
              "2                                   NaN  15602  tt0113228                en   \n",
              "3                                   NaN  31357  tt0114885                en   \n",
              "4                                   NaN  11862  tt0113041                en   \n",
              "\n",
              "                original_title  \\\n",
              "0                    Toy Story   \n",
              "1                      Jumanji   \n",
              "2             Grumpier Old Men   \n",
              "3            Waiting to Exhale   \n",
              "4  Father of the Bride Part II   \n",
              "\n",
              "                                            overview  ... release_date  \\\n",
              "0  Led by Woody, Andy's toys live happily in his ...  ...   1995-10-30   \n",
              "1  When siblings Judy and Peter discover an encha...  ...   1995-12-15   \n",
              "2  A family wedding reignites the ancient feud be...  ...   1995-12-22   \n",
              "3  Cheated on, mistreated and stepped on, the wom...  ...   1995-12-22   \n",
              "4  Just when George Banks has recovered from his ...  ...   1995-02-10   \n",
              "\n",
              "       revenue runtime                                   spoken_languages  \\\n",
              "0  373554033.0    81.0           [{'iso_639_1': 'en', 'name': 'English'}]   \n",
              "1  262797249.0   104.0  [{'iso_639_1': 'en', 'name': 'English'}, {'iso...   \n",
              "2          0.0   101.0           [{'iso_639_1': 'en', 'name': 'English'}]   \n",
              "3   81452156.0   127.0           [{'iso_639_1': 'en', 'name': 'English'}]   \n",
              "4   76578911.0   106.0           [{'iso_639_1': 'en', 'name': 'English'}]   \n",
              "\n",
              "     status                                            tagline  \\\n",
              "0  Released                                                NaN   \n",
              "1  Released          Roll the dice and unleash the excitement!   \n",
              "2  Released  Still Yelling. Still Fighting. Still Ready for...   \n",
              "3  Released  Friends are the people who let you be yourself...   \n",
              "4  Released  Just When His World Is Back To Normal... He's ...   \n",
              "\n",
              "                         title  video vote_average vote_count  \n",
              "0                    Toy Story  False          7.7     5415.0  \n",
              "1                      Jumanji  False          6.9     2413.0  \n",
              "2             Grumpier Old Men  False          6.5       92.0  \n",
              "3            Waiting to Exhale  False          6.1       34.0  \n",
              "4  Father of the Bride Part II  False          5.7      173.0  \n",
              "\n",
              "[5 rows x 24 columns]"
            ],
            "text/html": [
              "\n",
              "  <div id=\"df-294a3c57-0e22-41ec-8cea-cd30a0a1b635\">\n",
              "    <div class=\"colab-df-container\">\n",
              "      <div>\n",
              "<style scoped>\n",
              "    .dataframe tbody tr th:only-of-type {\n",
              "        vertical-align: middle;\n",
              "    }\n",
              "\n",
              "    .dataframe tbody tr th {\n",
              "        vertical-align: top;\n",
              "    }\n",
              "\n",
              "    .dataframe thead th {\n",
              "        text-align: right;\n",
              "    }\n",
              "</style>\n",
              "<table border=\"1\" class=\"dataframe\">\n",
              "  <thead>\n",
              "    <tr style=\"text-align: right;\">\n",
              "      <th></th>\n",
              "      <th>adult</th>\n",
              "      <th>belongs_to_collection</th>\n",
              "      <th>budget</th>\n",
              "      <th>genres</th>\n",
              "      <th>homepage</th>\n",
              "      <th>id</th>\n",
              "      <th>imdb_id</th>\n",
              "      <th>original_language</th>\n",
              "      <th>original_title</th>\n",
              "      <th>overview</th>\n",
              "      <th>...</th>\n",
              "      <th>release_date</th>\n",
              "      <th>revenue</th>\n",
              "      <th>runtime</th>\n",
              "      <th>spoken_languages</th>\n",
              "      <th>status</th>\n",
              "      <th>tagline</th>\n",
              "      <th>title</th>\n",
              "      <th>video</th>\n",
              "      <th>vote_average</th>\n",
              "      <th>vote_count</th>\n",
              "    </tr>\n",
              "  </thead>\n",
              "  <tbody>\n",
              "    <tr>\n",
              "      <th>0</th>\n",
              "      <td>False</td>\n",
              "      <td>{'id': 10194, 'name': 'Toy Story Collection', ...</td>\n",
              "      <td>30000000</td>\n",
              "      <td>[{'id': 16, 'name': 'Animation'}, {'id': 35, '...</td>\n",
              "      <td>http://toystory.disney.com/toy-story</td>\n",
              "      <td>862</td>\n",
              "      <td>tt0114709</td>\n",
              "      <td>en</td>\n",
              "      <td>Toy Story</td>\n",
              "      <td>Led by Woody, Andy's toys live happily in his ...</td>\n",
              "      <td>...</td>\n",
              "      <td>1995-10-30</td>\n",
              "      <td>373554033.0</td>\n",
              "      <td>81.0</td>\n",
              "      <td>[{'iso_639_1': 'en', 'name': 'English'}]</td>\n",
              "      <td>Released</td>\n",
              "      <td>NaN</td>\n",
              "      <td>Toy Story</td>\n",
              "      <td>False</td>\n",
              "      <td>7.7</td>\n",
              "      <td>5415.0</td>\n",
              "    </tr>\n",
              "    <tr>\n",
              "      <th>1</th>\n",
              "      <td>False</td>\n",
              "      <td>NaN</td>\n",
              "      <td>65000000</td>\n",
              "      <td>[{'id': 12, 'name': 'Adventure'}, {'id': 14, '...</td>\n",
              "      <td>NaN</td>\n",
              "      <td>8844</td>\n",
              "      <td>tt0113497</td>\n",
              "      <td>en</td>\n",
              "      <td>Jumanji</td>\n",
              "      <td>When siblings Judy and Peter discover an encha...</td>\n",
              "      <td>...</td>\n",
              "      <td>1995-12-15</td>\n",
              "      <td>262797249.0</td>\n",
              "      <td>104.0</td>\n",
              "      <td>[{'iso_639_1': 'en', 'name': 'English'}, {'iso...</td>\n",
              "      <td>Released</td>\n",
              "      <td>Roll the dice and unleash the excitement!</td>\n",
              "      <td>Jumanji</td>\n",
              "      <td>False</td>\n",
              "      <td>6.9</td>\n",
              "      <td>2413.0</td>\n",
              "    </tr>\n",
              "    <tr>\n",
              "      <th>2</th>\n",
              "      <td>False</td>\n",
              "      <td>{'id': 119050, 'name': 'Grumpy Old Men Collect...</td>\n",
              "      <td>0</td>\n",
              "      <td>[{'id': 10749, 'name': 'Romance'}, {'id': 35, ...</td>\n",
              "      <td>NaN</td>\n",
              "      <td>15602</td>\n",
              "      <td>tt0113228</td>\n",
              "      <td>en</td>\n",
              "      <td>Grumpier Old Men</td>\n",
              "      <td>A family wedding reignites the ancient feud be...</td>\n",
              "      <td>...</td>\n",
              "      <td>1995-12-22</td>\n",
              "      <td>0.0</td>\n",
              "      <td>101.0</td>\n",
              "      <td>[{'iso_639_1': 'en', 'name': 'English'}]</td>\n",
              "      <td>Released</td>\n",
              "      <td>Still Yelling. Still Fighting. Still Ready for...</td>\n",
              "      <td>Grumpier Old Men</td>\n",
              "      <td>False</td>\n",
              "      <td>6.5</td>\n",
              "      <td>92.0</td>\n",
              "    </tr>\n",
              "    <tr>\n",
              "      <th>3</th>\n",
              "      <td>False</td>\n",
              "      <td>NaN</td>\n",
              "      <td>16000000</td>\n",
              "      <td>[{'id': 35, 'name': 'Comedy'}, {'id': 18, 'nam...</td>\n",
              "      <td>NaN</td>\n",
              "      <td>31357</td>\n",
              "      <td>tt0114885</td>\n",
              "      <td>en</td>\n",
              "      <td>Waiting to Exhale</td>\n",
              "      <td>Cheated on, mistreated and stepped on, the wom...</td>\n",
              "      <td>...</td>\n",
              "      <td>1995-12-22</td>\n",
              "      <td>81452156.0</td>\n",
              "      <td>127.0</td>\n",
              "      <td>[{'iso_639_1': 'en', 'name': 'English'}]</td>\n",
              "      <td>Released</td>\n",
              "      <td>Friends are the people who let you be yourself...</td>\n",
              "      <td>Waiting to Exhale</td>\n",
              "      <td>False</td>\n",
              "      <td>6.1</td>\n",
              "      <td>34.0</td>\n",
              "    </tr>\n",
              "    <tr>\n",
              "      <th>4</th>\n",
              "      <td>False</td>\n",
              "      <td>{'id': 96871, 'name': 'Father of the Bride Col...</td>\n",
              "      <td>0</td>\n",
              "      <td>[{'id': 35, 'name': 'Comedy'}]</td>\n",
              "      <td>NaN</td>\n",
              "      <td>11862</td>\n",
              "      <td>tt0113041</td>\n",
              "      <td>en</td>\n",
              "      <td>Father of the Bride Part II</td>\n",
              "      <td>Just when George Banks has recovered from his ...</td>\n",
              "      <td>...</td>\n",
              "      <td>1995-02-10</td>\n",
              "      <td>76578911.0</td>\n",
              "      <td>106.0</td>\n",
              "      <td>[{'iso_639_1': 'en', 'name': 'English'}]</td>\n",
              "      <td>Released</td>\n",
              "      <td>Just When His World Is Back To Normal... He's ...</td>\n",
              "      <td>Father of the Bride Part II</td>\n",
              "      <td>False</td>\n",
              "      <td>5.7</td>\n",
              "      <td>173.0</td>\n",
              "    </tr>\n",
              "  </tbody>\n",
              "</table>\n",
              "<p>5 rows × 24 columns</p>\n",
              "</div>\n",
              "      <button class=\"colab-df-convert\" onclick=\"convertToInteractive('df-294a3c57-0e22-41ec-8cea-cd30a0a1b635')\"\n",
              "              title=\"Convert this dataframe to an interactive table.\"\n",
              "              style=\"display:none;\">\n",
              "        \n",
              "  <svg xmlns=\"http://www.w3.org/2000/svg\" height=\"24px\"viewBox=\"0 0 24 24\"\n",
              "       width=\"24px\">\n",
              "    <path d=\"M0 0h24v24H0V0z\" fill=\"none\"/>\n",
              "    <path d=\"M18.56 5.44l.94 2.06.94-2.06 2.06-.94-2.06-.94-.94-2.06-.94 2.06-2.06.94zm-11 1L8.5 8.5l.94-2.06 2.06-.94-2.06-.94L8.5 2.5l-.94 2.06-2.06.94zm10 10l.94 2.06.94-2.06 2.06-.94-2.06-.94-.94-2.06-.94 2.06-2.06.94z\"/><path d=\"M17.41 7.96l-1.37-1.37c-.4-.4-.92-.59-1.43-.59-.52 0-1.04.2-1.43.59L10.3 9.45l-7.72 7.72c-.78.78-.78 2.05 0 2.83L4 21.41c.39.39.9.59 1.41.59.51 0 1.02-.2 1.41-.59l7.78-7.78 2.81-2.81c.8-.78.8-2.07 0-2.86zM5.41 20L4 18.59l7.72-7.72 1.47 1.35L5.41 20z\"/>\n",
              "  </svg>\n",
              "      </button>\n",
              "      \n",
              "  <style>\n",
              "    .colab-df-container {\n",
              "      display:flex;\n",
              "      flex-wrap:wrap;\n",
              "      gap: 12px;\n",
              "    }\n",
              "\n",
              "    .colab-df-convert {\n",
              "      background-color: #E8F0FE;\n",
              "      border: none;\n",
              "      border-radius: 50%;\n",
              "      cursor: pointer;\n",
              "      display: none;\n",
              "      fill: #1967D2;\n",
              "      height: 32px;\n",
              "      padding: 0 0 0 0;\n",
              "      width: 32px;\n",
              "    }\n",
              "\n",
              "    .colab-df-convert:hover {\n",
              "      background-color: #E2EBFA;\n",
              "      box-shadow: 0px 1px 2px rgba(60, 64, 67, 0.3), 0px 1px 3px 1px rgba(60, 64, 67, 0.15);\n",
              "      fill: #174EA6;\n",
              "    }\n",
              "\n",
              "    [theme=dark] .colab-df-convert {\n",
              "      background-color: #3B4455;\n",
              "      fill: #D2E3FC;\n",
              "    }\n",
              "\n",
              "    [theme=dark] .colab-df-convert:hover {\n",
              "      background-color: #434B5C;\n",
              "      box-shadow: 0px 1px 3px 1px rgba(0, 0, 0, 0.15);\n",
              "      filter: drop-shadow(0px 1px 2px rgba(0, 0, 0, 0.3));\n",
              "      fill: #FFFFFF;\n",
              "    }\n",
              "  </style>\n",
              "\n",
              "      <script>\n",
              "        const buttonEl =\n",
              "          document.querySelector('#df-294a3c57-0e22-41ec-8cea-cd30a0a1b635 button.colab-df-convert');\n",
              "        buttonEl.style.display =\n",
              "          google.colab.kernel.accessAllowed ? 'block' : 'none';\n",
              "\n",
              "        async function convertToInteractive(key) {\n",
              "          const element = document.querySelector('#df-294a3c57-0e22-41ec-8cea-cd30a0a1b635');\n",
              "          const dataTable =\n",
              "            await google.colab.kernel.invokeFunction('convertToInteractive',\n",
              "                                                     [key], {});\n",
              "          if (!dataTable) return;\n",
              "\n",
              "          const docLinkHtml = 'Like what you see? Visit the ' +\n",
              "            '<a target=\"_blank\" href=https://colab.research.google.com/notebooks/data_table.ipynb>data table notebook</a>'\n",
              "            + ' to learn more about interactive tables.';\n",
              "          element.innerHTML = '';\n",
              "          dataTable['output_type'] = 'display_data';\n",
              "          await google.colab.output.renderOutput(dataTable, element);\n",
              "          const docLink = document.createElement('div');\n",
              "          docLink.innerHTML = docLinkHtml;\n",
              "          element.appendChild(docLink);\n",
              "        }\n",
              "      </script>\n",
              "    </div>\n",
              "  </div>\n",
              "  "
            ]
          },
          "metadata": {},
          "execution_count": 2
        }
      ]
    },
    {
      "cell_type": "code",
      "source": [
        "md['genres'] = md['genres'].fillna('[]').apply(literal_eval).apply(lambda x: [i['name'] for i in x] if isinstance(x, list) else [])"
      ],
      "metadata": {
        "id": "yZnzhj8bRmk_"
      },
      "execution_count": null,
      "outputs": []
    },
    {
      "cell_type": "code",
      "source": [
        "# Mean vote across the whole report\n",
        "vote_counts = md[md['vote_count'].notnull()]['vote_count'].astype('int')\n",
        "vote_averages = md[md['vote_average'].notnull()]['vote_average'].astype('int')\n",
        "C = vote_averages.mean()\n",
        "C"
      ],
      "metadata": {
        "id": "H8sECkKSU4aP",
        "colab": {
          "base_uri": "https://localhost:8080/"
        },
        "outputId": "cb6a504f-e5a8-4a13-bfdb-694104a75bed"
      },
      "execution_count": null,
      "outputs": [
        {
          "output_type": "execute_result",
          "data": {
            "text/plain": [
              "5.244896612406511"
            ]
          },
          "metadata": {},
          "execution_count": 4
        }
      ]
    },
    {
      "cell_type": "code",
      "source": [
        "# Minimum votes required to be listed in the chart\n",
        "m = vote_counts.quantile(0.95)\n",
        "m"
      ],
      "metadata": {
        "colab": {
          "base_uri": "https://localhost:8080/"
        },
        "id": "zKvolfRExFAx",
        "outputId": "d7d87130-33c7-4b7f-8250-dc7ee5e16179"
      },
      "execution_count": null,
      "outputs": [
        {
          "output_type": "execute_result",
          "data": {
            "text/plain": [
              "434.0"
            ]
          },
          "metadata": {},
          "execution_count": 5
        }
      ]
    },
    {
      "cell_type": "code",
      "source": [
        "md['year'] = pd.to_datetime(md['release_date'], errors='coerce').apply(lambda x: str(x).split('-')[0] if x != np.nan else np.nan)"
      ],
      "metadata": {
        "id": "-c_cs7J1xOmJ"
      },
      "execution_count": null,
      "outputs": []
    },
    {
      "cell_type": "code",
      "source": [
        "qualified = md[(md['vote_count'] >= m) & (md['vote_count'].notnull()) & (md['vote_average'].notnull())][['title', 'year', 'vote_count', 'vote_average', 'popularity', 'genres']]\n",
        "qualified['vote_count'] = qualified['vote_count'].astype('int')\n",
        "qualified['vote_average'] = qualified['vote_average'].astype('int')\n",
        "qualified.shape"
      ],
      "metadata": {
        "colab": {
          "base_uri": "https://localhost:8080/"
        },
        "id": "XH-8IMhMxzAC",
        "outputId": "eb66a33b-68cb-477c-84e5-5202f6ec7078"
      },
      "execution_count": null,
      "outputs": [
        {
          "output_type": "execute_result",
          "data": {
            "text/plain": [
              "(2274, 6)"
            ]
          },
          "metadata": {},
          "execution_count": 7
        }
      ]
    },
    {
      "cell_type": "code",
      "source": [
        "def weighted_rating(x):\n",
        "    v = x['vote_count']\n",
        "    R = x['vote_average']\n",
        "    return (v/(v+m) * R) + (m/(m+v) * C)"
      ],
      "metadata": {
        "id": "5wgtbdxqyFHQ"
      },
      "execution_count": null,
      "outputs": []
    },
    {
      "cell_type": "code",
      "source": [
        "qualified['wr'] = qualified.apply(weighted_rating, axis=1)"
      ],
      "metadata": {
        "id": "KJV8Idc8y7mn"
      },
      "execution_count": null,
      "outputs": []
    },
    {
      "cell_type": "code",
      "source": [
        "qualified = qualified.sort_values('wr', ascending=False).head(250)"
      ],
      "metadata": {
        "id": "nwBZxH0tzAA3"
      },
      "execution_count": null,
      "outputs": []
    },
    {
      "cell_type": "code",
      "source": [
        "# Top 15 movies\n",
        "qualified.head(15)"
      ],
      "metadata": {
        "colab": {
          "base_uri": "https://localhost:8080/",
          "height": 519
        },
        "id": "NrdRyB6SzDbe",
        "outputId": "5817e053-f68d-47e2-9c85-2a728bb51587"
      },
      "execution_count": null,
      "outputs": [
        {
          "output_type": "execute_result",
          "data": {
            "text/plain": [
              "                                                   title  year  vote_count  \\\n",
              "15480                                          Inception  2010       14075   \n",
              "12481                                    The Dark Knight  2008       12269   \n",
              "22879                                       Interstellar  2014       11187   \n",
              "2843                                          Fight Club  1999        9678   \n",
              "4863   The Lord of the Rings: The Fellowship of the Ring  2001        8892   \n",
              "292                                         Pulp Fiction  1994        8670   \n",
              "314                             The Shawshank Redemption  1994        8358   \n",
              "7000       The Lord of the Rings: The Return of the King  2003        8226   \n",
              "351                                         Forrest Gump  1994        8147   \n",
              "5814               The Lord of the Rings: The Two Towers  2002        7641   \n",
              "256                                            Star Wars  1977        6778   \n",
              "1225                                  Back to the Future  1985        6239   \n",
              "834                                        The Godfather  1972        6024   \n",
              "1154                             The Empire Strikes Back  1980        5998   \n",
              "46                                                 Se7en  1995        5915   \n",
              "\n",
              "       vote_average  popularity  \\\n",
              "15480             8   29.108149   \n",
              "12481             8  123.167259   \n",
              "22879             8   32.213481   \n",
              "2843              8   63.869599   \n",
              "4863              8   32.070725   \n",
              "292               8  140.950236   \n",
              "314               8   51.645403   \n",
              "7000              8   29.324358   \n",
              "351               8   48.307194   \n",
              "5814              8   29.423537   \n",
              "256               8   42.149697   \n",
              "1225              8   25.778509   \n",
              "834               8   41.109264   \n",
              "1154              8   19.470959   \n",
              "46                8    18.45743   \n",
              "\n",
              "                                                  genres        wr  \n",
              "15480  [Action, Thriller, Science Fiction, Mystery, A...  7.917588  \n",
              "12481                   [Drama, Action, Crime, Thriller]  7.905871  \n",
              "22879                [Adventure, Drama, Science Fiction]  7.897107  \n",
              "2843                                             [Drama]  7.881753  \n",
              "4863                        [Adventure, Fantasy, Action]  7.871787  \n",
              "292                                    [Thriller, Crime]  7.868660  \n",
              "314                                       [Drama, Crime]  7.864000  \n",
              "7000                        [Adventure, Fantasy, Action]  7.861927  \n",
              "351                             [Comedy, Drama, Romance]  7.860656  \n",
              "5814                        [Adventure, Fantasy, Action]  7.851924  \n",
              "256                 [Adventure, Action, Science Fiction]  7.834205  \n",
              "1225        [Adventure, Comedy, Science Fiction, Family]  7.820813  \n",
              "834                                       [Drama, Crime]  7.814847  \n",
              "1154                [Adventure, Action, Science Fiction]  7.814099  \n",
              "46                            [Crime, Mystery, Thriller]  7.811669  "
            ],
            "text/html": [
              "\n",
              "  <div id=\"df-a00be2bc-7cff-4266-a3e5-b4b8900e4960\">\n",
              "    <div class=\"colab-df-container\">\n",
              "      <div>\n",
              "<style scoped>\n",
              "    .dataframe tbody tr th:only-of-type {\n",
              "        vertical-align: middle;\n",
              "    }\n",
              "\n",
              "    .dataframe tbody tr th {\n",
              "        vertical-align: top;\n",
              "    }\n",
              "\n",
              "    .dataframe thead th {\n",
              "        text-align: right;\n",
              "    }\n",
              "</style>\n",
              "<table border=\"1\" class=\"dataframe\">\n",
              "  <thead>\n",
              "    <tr style=\"text-align: right;\">\n",
              "      <th></th>\n",
              "      <th>title</th>\n",
              "      <th>year</th>\n",
              "      <th>vote_count</th>\n",
              "      <th>vote_average</th>\n",
              "      <th>popularity</th>\n",
              "      <th>genres</th>\n",
              "      <th>wr</th>\n",
              "    </tr>\n",
              "  </thead>\n",
              "  <tbody>\n",
              "    <tr>\n",
              "      <th>15480</th>\n",
              "      <td>Inception</td>\n",
              "      <td>2010</td>\n",
              "      <td>14075</td>\n",
              "      <td>8</td>\n",
              "      <td>29.108149</td>\n",
              "      <td>[Action, Thriller, Science Fiction, Mystery, A...</td>\n",
              "      <td>7.917588</td>\n",
              "    </tr>\n",
              "    <tr>\n",
              "      <th>12481</th>\n",
              "      <td>The Dark Knight</td>\n",
              "      <td>2008</td>\n",
              "      <td>12269</td>\n",
              "      <td>8</td>\n",
              "      <td>123.167259</td>\n",
              "      <td>[Drama, Action, Crime, Thriller]</td>\n",
              "      <td>7.905871</td>\n",
              "    </tr>\n",
              "    <tr>\n",
              "      <th>22879</th>\n",
              "      <td>Interstellar</td>\n",
              "      <td>2014</td>\n",
              "      <td>11187</td>\n",
              "      <td>8</td>\n",
              "      <td>32.213481</td>\n",
              "      <td>[Adventure, Drama, Science Fiction]</td>\n",
              "      <td>7.897107</td>\n",
              "    </tr>\n",
              "    <tr>\n",
              "      <th>2843</th>\n",
              "      <td>Fight Club</td>\n",
              "      <td>1999</td>\n",
              "      <td>9678</td>\n",
              "      <td>8</td>\n",
              "      <td>63.869599</td>\n",
              "      <td>[Drama]</td>\n",
              "      <td>7.881753</td>\n",
              "    </tr>\n",
              "    <tr>\n",
              "      <th>4863</th>\n",
              "      <td>The Lord of the Rings: The Fellowship of the Ring</td>\n",
              "      <td>2001</td>\n",
              "      <td>8892</td>\n",
              "      <td>8</td>\n",
              "      <td>32.070725</td>\n",
              "      <td>[Adventure, Fantasy, Action]</td>\n",
              "      <td>7.871787</td>\n",
              "    </tr>\n",
              "    <tr>\n",
              "      <th>292</th>\n",
              "      <td>Pulp Fiction</td>\n",
              "      <td>1994</td>\n",
              "      <td>8670</td>\n",
              "      <td>8</td>\n",
              "      <td>140.950236</td>\n",
              "      <td>[Thriller, Crime]</td>\n",
              "      <td>7.868660</td>\n",
              "    </tr>\n",
              "    <tr>\n",
              "      <th>314</th>\n",
              "      <td>The Shawshank Redemption</td>\n",
              "      <td>1994</td>\n",
              "      <td>8358</td>\n",
              "      <td>8</td>\n",
              "      <td>51.645403</td>\n",
              "      <td>[Drama, Crime]</td>\n",
              "      <td>7.864000</td>\n",
              "    </tr>\n",
              "    <tr>\n",
              "      <th>7000</th>\n",
              "      <td>The Lord of the Rings: The Return of the King</td>\n",
              "      <td>2003</td>\n",
              "      <td>8226</td>\n",
              "      <td>8</td>\n",
              "      <td>29.324358</td>\n",
              "      <td>[Adventure, Fantasy, Action]</td>\n",
              "      <td>7.861927</td>\n",
              "    </tr>\n",
              "    <tr>\n",
              "      <th>351</th>\n",
              "      <td>Forrest Gump</td>\n",
              "      <td>1994</td>\n",
              "      <td>8147</td>\n",
              "      <td>8</td>\n",
              "      <td>48.307194</td>\n",
              "      <td>[Comedy, Drama, Romance]</td>\n",
              "      <td>7.860656</td>\n",
              "    </tr>\n",
              "    <tr>\n",
              "      <th>5814</th>\n",
              "      <td>The Lord of the Rings: The Two Towers</td>\n",
              "      <td>2002</td>\n",
              "      <td>7641</td>\n",
              "      <td>8</td>\n",
              "      <td>29.423537</td>\n",
              "      <td>[Adventure, Fantasy, Action]</td>\n",
              "      <td>7.851924</td>\n",
              "    </tr>\n",
              "    <tr>\n",
              "      <th>256</th>\n",
              "      <td>Star Wars</td>\n",
              "      <td>1977</td>\n",
              "      <td>6778</td>\n",
              "      <td>8</td>\n",
              "      <td>42.149697</td>\n",
              "      <td>[Adventure, Action, Science Fiction]</td>\n",
              "      <td>7.834205</td>\n",
              "    </tr>\n",
              "    <tr>\n",
              "      <th>1225</th>\n",
              "      <td>Back to the Future</td>\n",
              "      <td>1985</td>\n",
              "      <td>6239</td>\n",
              "      <td>8</td>\n",
              "      <td>25.778509</td>\n",
              "      <td>[Adventure, Comedy, Science Fiction, Family]</td>\n",
              "      <td>7.820813</td>\n",
              "    </tr>\n",
              "    <tr>\n",
              "      <th>834</th>\n",
              "      <td>The Godfather</td>\n",
              "      <td>1972</td>\n",
              "      <td>6024</td>\n",
              "      <td>8</td>\n",
              "      <td>41.109264</td>\n",
              "      <td>[Drama, Crime]</td>\n",
              "      <td>7.814847</td>\n",
              "    </tr>\n",
              "    <tr>\n",
              "      <th>1154</th>\n",
              "      <td>The Empire Strikes Back</td>\n",
              "      <td>1980</td>\n",
              "      <td>5998</td>\n",
              "      <td>8</td>\n",
              "      <td>19.470959</td>\n",
              "      <td>[Adventure, Action, Science Fiction]</td>\n",
              "      <td>7.814099</td>\n",
              "    </tr>\n",
              "    <tr>\n",
              "      <th>46</th>\n",
              "      <td>Se7en</td>\n",
              "      <td>1995</td>\n",
              "      <td>5915</td>\n",
              "      <td>8</td>\n",
              "      <td>18.45743</td>\n",
              "      <td>[Crime, Mystery, Thriller]</td>\n",
              "      <td>7.811669</td>\n",
              "    </tr>\n",
              "  </tbody>\n",
              "</table>\n",
              "</div>\n",
              "      <button class=\"colab-df-convert\" onclick=\"convertToInteractive('df-a00be2bc-7cff-4266-a3e5-b4b8900e4960')\"\n",
              "              title=\"Convert this dataframe to an interactive table.\"\n",
              "              style=\"display:none;\">\n",
              "        \n",
              "  <svg xmlns=\"http://www.w3.org/2000/svg\" height=\"24px\"viewBox=\"0 0 24 24\"\n",
              "       width=\"24px\">\n",
              "    <path d=\"M0 0h24v24H0V0z\" fill=\"none\"/>\n",
              "    <path d=\"M18.56 5.44l.94 2.06.94-2.06 2.06-.94-2.06-.94-.94-2.06-.94 2.06-2.06.94zm-11 1L8.5 8.5l.94-2.06 2.06-.94-2.06-.94L8.5 2.5l-.94 2.06-2.06.94zm10 10l.94 2.06.94-2.06 2.06-.94-2.06-.94-.94-2.06-.94 2.06-2.06.94z\"/><path d=\"M17.41 7.96l-1.37-1.37c-.4-.4-.92-.59-1.43-.59-.52 0-1.04.2-1.43.59L10.3 9.45l-7.72 7.72c-.78.78-.78 2.05 0 2.83L4 21.41c.39.39.9.59 1.41.59.51 0 1.02-.2 1.41-.59l7.78-7.78 2.81-2.81c.8-.78.8-2.07 0-2.86zM5.41 20L4 18.59l7.72-7.72 1.47 1.35L5.41 20z\"/>\n",
              "  </svg>\n",
              "      </button>\n",
              "      \n",
              "  <style>\n",
              "    .colab-df-container {\n",
              "      display:flex;\n",
              "      flex-wrap:wrap;\n",
              "      gap: 12px;\n",
              "    }\n",
              "\n",
              "    .colab-df-convert {\n",
              "      background-color: #E8F0FE;\n",
              "      border: none;\n",
              "      border-radius: 50%;\n",
              "      cursor: pointer;\n",
              "      display: none;\n",
              "      fill: #1967D2;\n",
              "      height: 32px;\n",
              "      padding: 0 0 0 0;\n",
              "      width: 32px;\n",
              "    }\n",
              "\n",
              "    .colab-df-convert:hover {\n",
              "      background-color: #E2EBFA;\n",
              "      box-shadow: 0px 1px 2px rgba(60, 64, 67, 0.3), 0px 1px 3px 1px rgba(60, 64, 67, 0.15);\n",
              "      fill: #174EA6;\n",
              "    }\n",
              "\n",
              "    [theme=dark] .colab-df-convert {\n",
              "      background-color: #3B4455;\n",
              "      fill: #D2E3FC;\n",
              "    }\n",
              "\n",
              "    [theme=dark] .colab-df-convert:hover {\n",
              "      background-color: #434B5C;\n",
              "      box-shadow: 0px 1px 3px 1px rgba(0, 0, 0, 0.15);\n",
              "      filter: drop-shadow(0px 1px 2px rgba(0, 0, 0, 0.3));\n",
              "      fill: #FFFFFF;\n",
              "    }\n",
              "  </style>\n",
              "\n",
              "      <script>\n",
              "        const buttonEl =\n",
              "          document.querySelector('#df-a00be2bc-7cff-4266-a3e5-b4b8900e4960 button.colab-df-convert');\n",
              "        buttonEl.style.display =\n",
              "          google.colab.kernel.accessAllowed ? 'block' : 'none';\n",
              "\n",
              "        async function convertToInteractive(key) {\n",
              "          const element = document.querySelector('#df-a00be2bc-7cff-4266-a3e5-b4b8900e4960');\n",
              "          const dataTable =\n",
              "            await google.colab.kernel.invokeFunction('convertToInteractive',\n",
              "                                                     [key], {});\n",
              "          if (!dataTable) return;\n",
              "\n",
              "          const docLinkHtml = 'Like what you see? Visit the ' +\n",
              "            '<a target=\"_blank\" href=https://colab.research.google.com/notebooks/data_table.ipynb>data table notebook</a>'\n",
              "            + ' to learn more about interactive tables.';\n",
              "          element.innerHTML = '';\n",
              "          dataTable['output_type'] = 'display_data';\n",
              "          await google.colab.output.renderOutput(dataTable, element);\n",
              "          const docLink = document.createElement('div');\n",
              "          docLink.innerHTML = docLinkHtml;\n",
              "          element.appendChild(docLink);\n",
              "        }\n",
              "      </script>\n",
              "    </div>\n",
              "  </div>\n",
              "  "
            ]
          },
          "metadata": {},
          "execution_count": 11
        }
      ]
    },
    {
      "cell_type": "markdown",
      "source": [
        "# Based on particular genres"
      ],
      "metadata": {
        "id": "_gQ7cmHt13nx"
      }
    },
    {
      "cell_type": "code",
      "source": [
        "# Based on particular genres\n",
        "s = md.apply(lambda x: pd.Series(x['genres']),axis=1).stack().reset_index(level=1, drop=True)\n",
        "s.name = 'genre'\n",
        "gen_md = md.drop('genres', axis=1).join(s)"
      ],
      "metadata": {
        "colab": {
          "base_uri": "https://localhost:8080/"
        },
        "id": "IMBkDbXOzHlp",
        "outputId": "04bf0ac6-7780-4683-a5c4-ac9d1a15dc31"
      },
      "execution_count": null,
      "outputs": [
        {
          "output_type": "stream",
          "name": "stderr",
          "text": [
            "<ipython-input-12-06e0146dffd9>:2: FutureWarning: The default dtype for empty Series will be 'object' instead of 'float64' in a future version. Specify a dtype explicitly to silence this warning.\n",
            "  s = md.apply(lambda x: pd.Series(x['genres']),axis=1).stack().reset_index(level=1, drop=True)\n"
          ]
        }
      ]
    },
    {
      "cell_type": "code",
      "source": [
        "def build_chart(genre, percentile=0.85):\n",
        "    df = gen_md[gen_md['genre'] == genre]\n",
        "    vote_counts = df[df['vote_count'].notnull()]['vote_count'].astype('int')\n",
        "    vote_averages = df[df['vote_average'].notnull()]['vote_average'].astype('int')\n",
        "    C = vote_averages.mean()\n",
        "    m = vote_counts.quantile(percentile)\n",
        "\n",
        "    qualified = df[(df['vote_count'] >= m) & (df['vote_count'].notnull()) & (df['vote_average'].notnull())][['title', 'year', 'vote_count', 'vote_average', 'popularity']]\n",
        "    qualified['vote_count'] = qualified['vote_count'].astype('int')\n",
        "    qualified['vote_average'] = qualified['vote_average'].astype('int')\n",
        "\n",
        "    qualified['wr'] = qualified.apply(lambda x: (x['vote_count']/(x['vote_count']+m) * x['vote_average']) + (m/(m+x['vote_count']) * C), axis=1)\n",
        "    qualified = qualified.sort_values('wr', ascending=False).head(250)\n",
        "\n",
        "    return qualified"
      ],
      "metadata": {
        "id": "nlPirtXR0pOZ"
      },
      "execution_count": null,
      "outputs": []
    },
    {
      "cell_type": "code",
      "source": [
        "# Top Romance Movies\n",
        "build_chart('Romance').head(15)"
      ],
      "metadata": {
        "colab": {
          "base_uri": "https://localhost:8080/",
          "height": 519
        },
        "id": "j9JeAmCQ1u0J",
        "outputId": "d755230b-cc62-4683-8368-52dd6b3b30f0"
      },
      "execution_count": null,
      "outputs": [
        {
          "output_type": "execute_result",
          "data": {
            "text/plain": [
              "                             title  year  vote_count  vote_average popularity  \\\n",
              "10309  Dilwale Dulhania Le Jayenge  1995         661             9  34.457024   \n",
              "351                   Forrest Gump  1994        8147             8  48.307194   \n",
              "876                        Vertigo  1958        1162             8   18.20822   \n",
              "40251                   Your Name.  2016        1030             8  34.461252   \n",
              "883               Some Like It Hot  1959         835             8  11.845107   \n",
              "1132               Cinema Paradiso  1988         834             8  14.177005   \n",
              "19901                     Paperman  2012         734             8   7.198633   \n",
              "37863                  Sing Street  2016         669             8  10.672862   \n",
              "882                  The Apartment  1960         498             8  11.994281   \n",
              "38718               The Handmaiden  2016         453             8  16.727405   \n",
              "3189                   City Lights  1931         444             8  10.891524   \n",
              "24886             The Way He Looks  2014         262             8   5.711274   \n",
              "45437               In a Heartbeat  2017         146             8   20.82178   \n",
              "1639                       Titanic  1997        7770             7   26.88907   \n",
              "19731      Silver Linings Playbook  2012        4840             7  14.488111   \n",
              "\n",
              "             wr  \n",
              "10309  8.565285  \n",
              "351    7.971357  \n",
              "876    7.811667  \n",
              "40251  7.789489  \n",
              "883    7.745154  \n",
              "1132   7.744878  \n",
              "19901  7.713951  \n",
              "37863  7.689483  \n",
              "882    7.599317  \n",
              "38718  7.566166  \n",
              "3189   7.558867  \n",
              "24886  7.331363  \n",
              "45437  7.003959  \n",
              "1639   6.981546  \n",
              "19731  6.970581  "
            ],
            "text/html": [
              "\n",
              "  <div id=\"df-51d09e2d-2737-41d0-aefe-1a8a4573f2a5\">\n",
              "    <div class=\"colab-df-container\">\n",
              "      <div>\n",
              "<style scoped>\n",
              "    .dataframe tbody tr th:only-of-type {\n",
              "        vertical-align: middle;\n",
              "    }\n",
              "\n",
              "    .dataframe tbody tr th {\n",
              "        vertical-align: top;\n",
              "    }\n",
              "\n",
              "    .dataframe thead th {\n",
              "        text-align: right;\n",
              "    }\n",
              "</style>\n",
              "<table border=\"1\" class=\"dataframe\">\n",
              "  <thead>\n",
              "    <tr style=\"text-align: right;\">\n",
              "      <th></th>\n",
              "      <th>title</th>\n",
              "      <th>year</th>\n",
              "      <th>vote_count</th>\n",
              "      <th>vote_average</th>\n",
              "      <th>popularity</th>\n",
              "      <th>wr</th>\n",
              "    </tr>\n",
              "  </thead>\n",
              "  <tbody>\n",
              "    <tr>\n",
              "      <th>10309</th>\n",
              "      <td>Dilwale Dulhania Le Jayenge</td>\n",
              "      <td>1995</td>\n",
              "      <td>661</td>\n",
              "      <td>9</td>\n",
              "      <td>34.457024</td>\n",
              "      <td>8.565285</td>\n",
              "    </tr>\n",
              "    <tr>\n",
              "      <th>351</th>\n",
              "      <td>Forrest Gump</td>\n",
              "      <td>1994</td>\n",
              "      <td>8147</td>\n",
              "      <td>8</td>\n",
              "      <td>48.307194</td>\n",
              "      <td>7.971357</td>\n",
              "    </tr>\n",
              "    <tr>\n",
              "      <th>876</th>\n",
              "      <td>Vertigo</td>\n",
              "      <td>1958</td>\n",
              "      <td>1162</td>\n",
              "      <td>8</td>\n",
              "      <td>18.20822</td>\n",
              "      <td>7.811667</td>\n",
              "    </tr>\n",
              "    <tr>\n",
              "      <th>40251</th>\n",
              "      <td>Your Name.</td>\n",
              "      <td>2016</td>\n",
              "      <td>1030</td>\n",
              "      <td>8</td>\n",
              "      <td>34.461252</td>\n",
              "      <td>7.789489</td>\n",
              "    </tr>\n",
              "    <tr>\n",
              "      <th>883</th>\n",
              "      <td>Some Like It Hot</td>\n",
              "      <td>1959</td>\n",
              "      <td>835</td>\n",
              "      <td>8</td>\n",
              "      <td>11.845107</td>\n",
              "      <td>7.745154</td>\n",
              "    </tr>\n",
              "    <tr>\n",
              "      <th>1132</th>\n",
              "      <td>Cinema Paradiso</td>\n",
              "      <td>1988</td>\n",
              "      <td>834</td>\n",
              "      <td>8</td>\n",
              "      <td>14.177005</td>\n",
              "      <td>7.744878</td>\n",
              "    </tr>\n",
              "    <tr>\n",
              "      <th>19901</th>\n",
              "      <td>Paperman</td>\n",
              "      <td>2012</td>\n",
              "      <td>734</td>\n",
              "      <td>8</td>\n",
              "      <td>7.198633</td>\n",
              "      <td>7.713951</td>\n",
              "    </tr>\n",
              "    <tr>\n",
              "      <th>37863</th>\n",
              "      <td>Sing Street</td>\n",
              "      <td>2016</td>\n",
              "      <td>669</td>\n",
              "      <td>8</td>\n",
              "      <td>10.672862</td>\n",
              "      <td>7.689483</td>\n",
              "    </tr>\n",
              "    <tr>\n",
              "      <th>882</th>\n",
              "      <td>The Apartment</td>\n",
              "      <td>1960</td>\n",
              "      <td>498</td>\n",
              "      <td>8</td>\n",
              "      <td>11.994281</td>\n",
              "      <td>7.599317</td>\n",
              "    </tr>\n",
              "    <tr>\n",
              "      <th>38718</th>\n",
              "      <td>The Handmaiden</td>\n",
              "      <td>2016</td>\n",
              "      <td>453</td>\n",
              "      <td>8</td>\n",
              "      <td>16.727405</td>\n",
              "      <td>7.566166</td>\n",
              "    </tr>\n",
              "    <tr>\n",
              "      <th>3189</th>\n",
              "      <td>City Lights</td>\n",
              "      <td>1931</td>\n",
              "      <td>444</td>\n",
              "      <td>8</td>\n",
              "      <td>10.891524</td>\n",
              "      <td>7.558867</td>\n",
              "    </tr>\n",
              "    <tr>\n",
              "      <th>24886</th>\n",
              "      <td>The Way He Looks</td>\n",
              "      <td>2014</td>\n",
              "      <td>262</td>\n",
              "      <td>8</td>\n",
              "      <td>5.711274</td>\n",
              "      <td>7.331363</td>\n",
              "    </tr>\n",
              "    <tr>\n",
              "      <th>45437</th>\n",
              "      <td>In a Heartbeat</td>\n",
              "      <td>2017</td>\n",
              "      <td>146</td>\n",
              "      <td>8</td>\n",
              "      <td>20.82178</td>\n",
              "      <td>7.003959</td>\n",
              "    </tr>\n",
              "    <tr>\n",
              "      <th>1639</th>\n",
              "      <td>Titanic</td>\n",
              "      <td>1997</td>\n",
              "      <td>7770</td>\n",
              "      <td>7</td>\n",
              "      <td>26.88907</td>\n",
              "      <td>6.981546</td>\n",
              "    </tr>\n",
              "    <tr>\n",
              "      <th>19731</th>\n",
              "      <td>Silver Linings Playbook</td>\n",
              "      <td>2012</td>\n",
              "      <td>4840</td>\n",
              "      <td>7</td>\n",
              "      <td>14.488111</td>\n",
              "      <td>6.970581</td>\n",
              "    </tr>\n",
              "  </tbody>\n",
              "</table>\n",
              "</div>\n",
              "      <button class=\"colab-df-convert\" onclick=\"convertToInteractive('df-51d09e2d-2737-41d0-aefe-1a8a4573f2a5')\"\n",
              "              title=\"Convert this dataframe to an interactive table.\"\n",
              "              style=\"display:none;\">\n",
              "        \n",
              "  <svg xmlns=\"http://www.w3.org/2000/svg\" height=\"24px\"viewBox=\"0 0 24 24\"\n",
              "       width=\"24px\">\n",
              "    <path d=\"M0 0h24v24H0V0z\" fill=\"none\"/>\n",
              "    <path d=\"M18.56 5.44l.94 2.06.94-2.06 2.06-.94-2.06-.94-.94-2.06-.94 2.06-2.06.94zm-11 1L8.5 8.5l.94-2.06 2.06-.94-2.06-.94L8.5 2.5l-.94 2.06-2.06.94zm10 10l.94 2.06.94-2.06 2.06-.94-2.06-.94-.94-2.06-.94 2.06-2.06.94z\"/><path d=\"M17.41 7.96l-1.37-1.37c-.4-.4-.92-.59-1.43-.59-.52 0-1.04.2-1.43.59L10.3 9.45l-7.72 7.72c-.78.78-.78 2.05 0 2.83L4 21.41c.39.39.9.59 1.41.59.51 0 1.02-.2 1.41-.59l7.78-7.78 2.81-2.81c.8-.78.8-2.07 0-2.86zM5.41 20L4 18.59l7.72-7.72 1.47 1.35L5.41 20z\"/>\n",
              "  </svg>\n",
              "      </button>\n",
              "      \n",
              "  <style>\n",
              "    .colab-df-container {\n",
              "      display:flex;\n",
              "      flex-wrap:wrap;\n",
              "      gap: 12px;\n",
              "    }\n",
              "\n",
              "    .colab-df-convert {\n",
              "      background-color: #E8F0FE;\n",
              "      border: none;\n",
              "      border-radius: 50%;\n",
              "      cursor: pointer;\n",
              "      display: none;\n",
              "      fill: #1967D2;\n",
              "      height: 32px;\n",
              "      padding: 0 0 0 0;\n",
              "      width: 32px;\n",
              "    }\n",
              "\n",
              "    .colab-df-convert:hover {\n",
              "      background-color: #E2EBFA;\n",
              "      box-shadow: 0px 1px 2px rgba(60, 64, 67, 0.3), 0px 1px 3px 1px rgba(60, 64, 67, 0.15);\n",
              "      fill: #174EA6;\n",
              "    }\n",
              "\n",
              "    [theme=dark] .colab-df-convert {\n",
              "      background-color: #3B4455;\n",
              "      fill: #D2E3FC;\n",
              "    }\n",
              "\n",
              "    [theme=dark] .colab-df-convert:hover {\n",
              "      background-color: #434B5C;\n",
              "      box-shadow: 0px 1px 3px 1px rgba(0, 0, 0, 0.15);\n",
              "      filter: drop-shadow(0px 1px 2px rgba(0, 0, 0, 0.3));\n",
              "      fill: #FFFFFF;\n",
              "    }\n",
              "  </style>\n",
              "\n",
              "      <script>\n",
              "        const buttonEl =\n",
              "          document.querySelector('#df-51d09e2d-2737-41d0-aefe-1a8a4573f2a5 button.colab-df-convert');\n",
              "        buttonEl.style.display =\n",
              "          google.colab.kernel.accessAllowed ? 'block' : 'none';\n",
              "\n",
              "        async function convertToInteractive(key) {\n",
              "          const element = document.querySelector('#df-51d09e2d-2737-41d0-aefe-1a8a4573f2a5');\n",
              "          const dataTable =\n",
              "            await google.colab.kernel.invokeFunction('convertToInteractive',\n",
              "                                                     [key], {});\n",
              "          if (!dataTable) return;\n",
              "\n",
              "          const docLinkHtml = 'Like what you see? Visit the ' +\n",
              "            '<a target=\"_blank\" href=https://colab.research.google.com/notebooks/data_table.ipynb>data table notebook</a>'\n",
              "            + ' to learn more about interactive tables.';\n",
              "          element.innerHTML = '';\n",
              "          dataTable['output_type'] = 'display_data';\n",
              "          await google.colab.output.renderOutput(dataTable, element);\n",
              "          const docLink = document.createElement('div');\n",
              "          docLink.innerHTML = docLinkHtml;\n",
              "          element.appendChild(docLink);\n",
              "        }\n",
              "      </script>\n",
              "    </div>\n",
              "  </div>\n",
              "  "
            ]
          },
          "metadata": {},
          "execution_count": 14
        }
      ]
    },
    {
      "cell_type": "code",
      "source": [
        "# In the previous section it gives the same recommendation to everyone, regardless of the user's personal taste.\n",
        "# To personalise our recommendations more, building an engine that computes similarity between movies based on certain metrics and suggests\n",
        "# movies that are most similar to a particular movie that a user liked"
      ],
      "metadata": {
        "id": "yyD04_QT2eF-"
      },
      "execution_count": null,
      "outputs": []
    },
    {
      "cell_type": "markdown",
      "source": [
        "# Content based recommender"
      ],
      "metadata": {
        "id": "NiKDWPJP2Qc6"
      }
    },
    {
      "cell_type": "code",
      "source": [
        "# Because we use movie's metadata to build this recommender this is called content based recommender\n",
        "links_small = pd.read_csv('links_small.csv')\n",
        "links_small = links_small[links_small['tmdbId'].notnull()]['tmdbId'].astype('int')"
      ],
      "metadata": {
        "id": "qGrT4SMD1xjH"
      },
      "execution_count": null,
      "outputs": []
    },
    {
      "cell_type": "code",
      "source": [
        "md = md.drop([19730, 29503, 35587])"
      ],
      "metadata": {
        "id": "ltVd0GDx3kzc"
      },
      "execution_count": null,
      "outputs": []
    },
    {
      "cell_type": "code",
      "source": [
        "md['id'] = md['id'].astype('int')\n",
        "smd = md[md['id'].isin(links_small)]\n",
        "smd.shape"
      ],
      "metadata": {
        "colab": {
          "base_uri": "https://localhost:8080/"
        },
        "id": "rda9EQIc3uS8",
        "outputId": "4958fe3b-573a-4a83-e12c-34b55d623821"
      },
      "execution_count": null,
      "outputs": [
        {
          "output_type": "execute_result",
          "data": {
            "text/plain": [
              "(9099, 25)"
            ]
          },
          "metadata": {},
          "execution_count": 17
        }
      ]
    },
    {
      "cell_type": "markdown",
      "source": [
        "# Movie description based recommender"
      ],
      "metadata": {
        "id": "HE4nwTnX4X6X"
      }
    },
    {
      "cell_type": "code",
      "source": [
        "# Building a recommender using movie descriptions and taglines\n",
        "smd['tagline'] = smd['tagline'].fillna('')\n",
        "smd['description'] = smd['overview'] + smd['tagline']\n",
        "smd['description'] = smd['description'].fillna('')"
      ],
      "metadata": {
        "colab": {
          "base_uri": "https://localhost:8080/"
        },
        "id": "c6FmzRG54P38",
        "outputId": "24877e32-7524-4d4f-8d08-30bf3337b27f"
      },
      "execution_count": null,
      "outputs": [
        {
          "output_type": "stream",
          "name": "stderr",
          "text": [
            "<ipython-input-18-1314450b20a5>:2: SettingWithCopyWarning: \n",
            "A value is trying to be set on a copy of a slice from a DataFrame.\n",
            "Try using .loc[row_indexer,col_indexer] = value instead\n",
            "\n",
            "See the caveats in the documentation: https://pandas.pydata.org/pandas-docs/stable/user_guide/indexing.html#returning-a-view-versus-a-copy\n",
            "  smd['tagline'] = smd['tagline'].fillna('')\n",
            "<ipython-input-18-1314450b20a5>:3: SettingWithCopyWarning: \n",
            "A value is trying to be set on a copy of a slice from a DataFrame.\n",
            "Try using .loc[row_indexer,col_indexer] = value instead\n",
            "\n",
            "See the caveats in the documentation: https://pandas.pydata.org/pandas-docs/stable/user_guide/indexing.html#returning-a-view-versus-a-copy\n",
            "  smd['description'] = smd['overview'] + smd['tagline']\n",
            "<ipython-input-18-1314450b20a5>:4: SettingWithCopyWarning: \n",
            "A value is trying to be set on a copy of a slice from a DataFrame.\n",
            "Try using .loc[row_indexer,col_indexer] = value instead\n",
            "\n",
            "See the caveats in the documentation: https://pandas.pydata.org/pandas-docs/stable/user_guide/indexing.html#returning-a-view-versus-a-copy\n",
            "  smd['description'] = smd['description'].fillna('')\n"
          ]
        }
      ]
    },
    {
      "cell_type": "code",
      "source": [
        "tf = TfidfVectorizer(analyzer='word',ngram_range=(1, 2),min_df=0, stop_words='english')\n",
        "tfidf_matrix = tf.fit_transform(smd['description'])"
      ],
      "metadata": {
        "id": "JBgwA3vB4kgP"
      },
      "execution_count": null,
      "outputs": []
    },
    {
      "cell_type": "code",
      "source": [
        "tfidf_matrix.shape"
      ],
      "metadata": {
        "colab": {
          "base_uri": "https://localhost:8080/"
        },
        "id": "iA-brvm34p1E",
        "outputId": "e4fd2c7b-e7c6-4beb-b601-1341fad2299e"
      },
      "execution_count": null,
      "outputs": [
        {
          "output_type": "execute_result",
          "data": {
            "text/plain": [
              "(9099, 268124)"
            ]
          },
          "metadata": {},
          "execution_count": 20
        }
      ]
    },
    {
      "cell_type": "code",
      "source": [
        "cosine_sim = linear_kernel(tfidf_matrix, tfidf_matrix)"
      ],
      "metadata": {
        "id": "H15ed5n05H0Q"
      },
      "execution_count": null,
      "outputs": []
    },
    {
      "cell_type": "code",
      "source": [
        "cosine_sim[0]"
      ],
      "metadata": {
        "colab": {
          "base_uri": "https://localhost:8080/"
        },
        "id": "rjy0g0Js5SfX",
        "outputId": "227ca45e-a3bd-4933-c9f1-9255d2999dc5"
      },
      "execution_count": null,
      "outputs": [
        {
          "output_type": "execute_result",
          "data": {
            "text/plain": [
              "array([1.        , 0.00680476, 0.        , ..., 0.        , 0.00344913,\n",
              "       0.        ])"
            ]
          },
          "metadata": {},
          "execution_count": 22
        }
      ]
    },
    {
      "cell_type": "code",
      "source": [
        "smd = smd.reset_index()\n",
        "titles = smd['title']\n",
        "indices = pd.Series(smd.index, index=smd['title'])"
      ],
      "metadata": {
        "id": "WKm-5kRO5U1O"
      },
      "execution_count": null,
      "outputs": []
    },
    {
      "cell_type": "code",
      "source": [
        "# 30 most similar movies based on the cosine similarity score\n",
        "def get_recommendations(title):\n",
        "    idx = indices[title]\n",
        "    sim_scores = list(enumerate(cosine_sim[idx]))\n",
        "    sim_scores = sorted(sim_scores, key=lambda x: x[1], reverse=True)\n",
        "    sim_scores = sim_scores[1:31]\n",
        "    movie_indices = [i[0] for i in sim_scores]\n",
        "    return titles.iloc[movie_indices]"
      ],
      "metadata": {
        "id": "m-iuXjW55bLa"
      },
      "execution_count": null,
      "outputs": []
    },
    {
      "cell_type": "code",
      "source": [
        "get_recommendations('The Godfather').head(10)"
      ],
      "metadata": {
        "colab": {
          "base_uri": "https://localhost:8080/"
        },
        "id": "Dfq7XKj15jEc",
        "outputId": "6fc9e522-004b-4c3c-df75-bb2b600e61fb"
      },
      "execution_count": null,
      "outputs": [
        {
          "output_type": "execute_result",
          "data": {
            "text/plain": [
              "973      The Godfather: Part II\n",
              "8387                 The Family\n",
              "3509                       Made\n",
              "4196         Johnny Dangerously\n",
              "29               Shanghai Triad\n",
              "5667                       Fury\n",
              "2412             American Movie\n",
              "1582    The Godfather: Part III\n",
              "4221                    8 Women\n",
              "2159              Summer of Sam\n",
              "Name: title, dtype: object"
            ]
          },
          "metadata": {},
          "execution_count": 25
        }
      ]
    },
    {
      "cell_type": "code",
      "source": [
        "get_recommendations('The Dark Knight').head(10)"
      ],
      "metadata": {
        "colab": {
          "base_uri": "https://localhost:8080/"
        },
        "id": "vRPIOcFb5n-X",
        "outputId": "cafab1e4-a53b-4910-8a79-791cdc5b8db9"
      },
      "execution_count": null,
      "outputs": [
        {
          "output_type": "execute_result",
          "data": {
            "text/plain": [
              "7931                      The Dark Knight Rises\n",
              "132                              Batman Forever\n",
              "1113                             Batman Returns\n",
              "8227    Batman: The Dark Knight Returns, Part 2\n",
              "7565                 Batman: Under the Red Hood\n",
              "524                                      Batman\n",
              "7901                           Batman: Year One\n",
              "2579               Batman: Mask of the Phantasm\n",
              "2696                                        JFK\n",
              "8165    Batman: The Dark Knight Returns, Part 1\n",
              "Name: title, dtype: object"
            ]
          },
          "metadata": {},
          "execution_count": 26
        }
      ]
    },
    {
      "cell_type": "markdown",
      "source": [
        "# Metadata Based Recommender"
      ],
      "metadata": {
        "id": "qoh9OB6U5yK9"
      }
    },
    {
      "cell_type": "code",
      "source": [
        "# Building a more sophisticated recommender that takes genre, keywords, cast and crew into consideration\n",
        "# Merging our current dataset with the crew and the keyword datasets\n",
        "credits = pd.read_csv('credits.csv')\n",
        "keywords = pd.read_csv('keywords.csv')"
      ],
      "metadata": {
        "id": "4HXm-8de5zqo"
      },
      "execution_count": null,
      "outputs": []
    },
    {
      "cell_type": "code",
      "source": [
        "keywords['id'] = keywords['id'].astype('int')\n",
        "credits['id'] = credits['id'].astype('int')\n",
        "md['id'] = md['id'].astype('int')"
      ],
      "metadata": {
        "id": "y8-MEMSy6DEq"
      },
      "execution_count": null,
      "outputs": []
    },
    {
      "cell_type": "code",
      "source": [
        "md.shape"
      ],
      "metadata": {
        "colab": {
          "base_uri": "https://localhost:8080/"
        },
        "id": "tYtZOb4N6D7F",
        "outputId": "1f631e84-4a59-4787-bff3-c90ef5f58567"
      },
      "execution_count": null,
      "outputs": [
        {
          "output_type": "execute_result",
          "data": {
            "text/plain": [
              "(45463, 25)"
            ]
          },
          "metadata": {},
          "execution_count": 29
        }
      ]
    },
    {
      "cell_type": "code",
      "source": [
        "md = md.merge(credits, on='id')\n",
        "md = md.merge(keywords, on='id')"
      ],
      "metadata": {
        "id": "6VPJDU9E6GjL"
      },
      "execution_count": null,
      "outputs": []
    },
    {
      "cell_type": "code",
      "source": [
        "smd = md[md['id'].isin(links_small)]\n",
        "smd.shape"
      ],
      "metadata": {
        "colab": {
          "base_uri": "https://localhost:8080/"
        },
        "id": "aC0OFRjg6Isz",
        "outputId": "17dd75e9-0450-4bd3-ba4a-03658fdd648b"
      },
      "execution_count": null,
      "outputs": [
        {
          "output_type": "execute_result",
          "data": {
            "text/plain": [
              "(9219, 28)"
            ]
          },
          "metadata": {},
          "execution_count": 31
        }
      ]
    },
    {
      "cell_type": "code",
      "source": [
        "# Pick the director as our feature from crew column\n",
        "# Choose the top 3 actors that appear in the credits list from cast column\n",
        "smd['cast'] = smd['cast'].apply(literal_eval)\n",
        "smd['crew'] = smd['crew'].apply(literal_eval)\n",
        "smd['keywords'] = smd['keywords'].apply(literal_eval)\n",
        "smd['cast_size'] = smd['cast'].apply(lambda x: len(x))\n",
        "smd['crew_size'] = smd['crew'].apply(lambda x: len(x))"
      ],
      "metadata": {
        "colab": {
          "base_uri": "https://localhost:8080/"
        },
        "id": "NprYUD2j6Yxa",
        "outputId": "982e8992-78f7-40d0-9021-382156caba1b"
      },
      "execution_count": null,
      "outputs": [
        {
          "output_type": "stream",
          "name": "stderr",
          "text": [
            "<ipython-input-32-8f592325b0d8>:3: SettingWithCopyWarning: \n",
            "A value is trying to be set on a copy of a slice from a DataFrame.\n",
            "Try using .loc[row_indexer,col_indexer] = value instead\n",
            "\n",
            "See the caveats in the documentation: https://pandas.pydata.org/pandas-docs/stable/user_guide/indexing.html#returning-a-view-versus-a-copy\n",
            "  smd['cast'] = smd['cast'].apply(literal_eval)\n",
            "<ipython-input-32-8f592325b0d8>:4: SettingWithCopyWarning: \n",
            "A value is trying to be set on a copy of a slice from a DataFrame.\n",
            "Try using .loc[row_indexer,col_indexer] = value instead\n",
            "\n",
            "See the caveats in the documentation: https://pandas.pydata.org/pandas-docs/stable/user_guide/indexing.html#returning-a-view-versus-a-copy\n",
            "  smd['crew'] = smd['crew'].apply(literal_eval)\n",
            "<ipython-input-32-8f592325b0d8>:5: SettingWithCopyWarning: \n",
            "A value is trying to be set on a copy of a slice from a DataFrame.\n",
            "Try using .loc[row_indexer,col_indexer] = value instead\n",
            "\n",
            "See the caveats in the documentation: https://pandas.pydata.org/pandas-docs/stable/user_guide/indexing.html#returning-a-view-versus-a-copy\n",
            "  smd['keywords'] = smd['keywords'].apply(literal_eval)\n",
            "<ipython-input-32-8f592325b0d8>:6: SettingWithCopyWarning: \n",
            "A value is trying to be set on a copy of a slice from a DataFrame.\n",
            "Try using .loc[row_indexer,col_indexer] = value instead\n",
            "\n",
            "See the caveats in the documentation: https://pandas.pydata.org/pandas-docs/stable/user_guide/indexing.html#returning-a-view-versus-a-copy\n",
            "  smd['cast_size'] = smd['cast'].apply(lambda x: len(x))\n",
            "<ipython-input-32-8f592325b0d8>:7: SettingWithCopyWarning: \n",
            "A value is trying to be set on a copy of a slice from a DataFrame.\n",
            "Try using .loc[row_indexer,col_indexer] = value instead\n",
            "\n",
            "See the caveats in the documentation: https://pandas.pydata.org/pandas-docs/stable/user_guide/indexing.html#returning-a-view-versus-a-copy\n",
            "  smd['crew_size'] = smd['crew'].apply(lambda x: len(x))\n"
          ]
        }
      ]
    },
    {
      "cell_type": "code",
      "source": [
        "def get_director(x):\n",
        "    for i in x:\n",
        "        if i['job'] == 'Director':\n",
        "            return i['name']\n",
        "    return np.nan"
      ],
      "metadata": {
        "id": "bciyI78M651O"
      },
      "execution_count": null,
      "outputs": []
    },
    {
      "cell_type": "code",
      "source": [
        "smd['director'] = smd['crew'].apply(get_director)"
      ],
      "metadata": {
        "colab": {
          "base_uri": "https://localhost:8080/"
        },
        "id": "w-0fBSUc6_Oj",
        "outputId": "8fa94bca-7016-4fa9-f9ec-664f0a3982ba"
      },
      "execution_count": null,
      "outputs": [
        {
          "output_type": "stream",
          "name": "stderr",
          "text": [
            "<ipython-input-34-85a035247fe7>:1: SettingWithCopyWarning: \n",
            "A value is trying to be set on a copy of a slice from a DataFrame.\n",
            "Try using .loc[row_indexer,col_indexer] = value instead\n",
            "\n",
            "See the caveats in the documentation: https://pandas.pydata.org/pandas-docs/stable/user_guide/indexing.html#returning-a-view-versus-a-copy\n",
            "  smd['director'] = smd['crew'].apply(get_director)\n"
          ]
        }
      ]
    },
    {
      "cell_type": "code",
      "source": [
        "smd['cast'] = smd['cast'].apply(lambda x: [i['name'] for i in x] if isinstance(x, list) else [])\n",
        "smd['cast'] = smd['cast'].apply(lambda x: x[:3] if len(x) >=3 else x)"
      ],
      "metadata": {
        "colab": {
          "base_uri": "https://localhost:8080/"
        },
        "id": "PIOp5PWy7CAS",
        "outputId": "82282447-e18d-4a1a-8458-aabc5c47a80d"
      },
      "execution_count": null,
      "outputs": [
        {
          "output_type": "stream",
          "name": "stderr",
          "text": [
            "<ipython-input-35-e8ba85dfed9e>:1: SettingWithCopyWarning: \n",
            "A value is trying to be set on a copy of a slice from a DataFrame.\n",
            "Try using .loc[row_indexer,col_indexer] = value instead\n",
            "\n",
            "See the caveats in the documentation: https://pandas.pydata.org/pandas-docs/stable/user_guide/indexing.html#returning-a-view-versus-a-copy\n",
            "  smd['cast'] = smd['cast'].apply(lambda x: [i['name'] for i in x] if isinstance(x, list) else [])\n",
            "<ipython-input-35-e8ba85dfed9e>:2: SettingWithCopyWarning: \n",
            "A value is trying to be set on a copy of a slice from a DataFrame.\n",
            "Try using .loc[row_indexer,col_indexer] = value instead\n",
            "\n",
            "See the caveats in the documentation: https://pandas.pydata.org/pandas-docs/stable/user_guide/indexing.html#returning-a-view-versus-a-copy\n",
            "  smd['cast'] = smd['cast'].apply(lambda x: x[:3] if len(x) >=3 else x)\n"
          ]
        }
      ]
    },
    {
      "cell_type": "code",
      "source": [
        "smd['keywords'] = smd['keywords'].apply(lambda x: [i['name'] for i in x] if isinstance(x, list) else [])"
      ],
      "metadata": {
        "colab": {
          "base_uri": "https://localhost:8080/"
        },
        "id": "LnZc_H6E7MI8",
        "outputId": "03dc7806-c125-4406-a0eb-e86b097fc933"
      },
      "execution_count": null,
      "outputs": [
        {
          "output_type": "stream",
          "name": "stderr",
          "text": [
            "<ipython-input-36-70c6a559b565>:1: SettingWithCopyWarning: \n",
            "A value is trying to be set on a copy of a slice from a DataFrame.\n",
            "Try using .loc[row_indexer,col_indexer] = value instead\n",
            "\n",
            "See the caveats in the documentation: https://pandas.pydata.org/pandas-docs/stable/user_guide/indexing.html#returning-a-view-versus-a-copy\n",
            "  smd['keywords'] = smd['keywords'].apply(lambda x: [i['name'] for i in x] if isinstance(x, list) else [])\n"
          ]
        }
      ]
    },
    {
      "cell_type": "code",
      "source": [
        "# These are steps in the preparation of genres and credits data:\n",
        "# 1) Strip Spaces and Convert to Lowercase from all our features. This way, our engine will not confuse between Johnny Depp and Johnny Galecki.\n",
        "# 2) Mention Director 3 times to give it more weight relative to the entire cast."
      ],
      "metadata": {
        "id": "EJGdQ8S67PjO"
      },
      "execution_count": null,
      "outputs": []
    },
    {
      "cell_type": "code",
      "source": [
        "md['cast'] = smd['cast'].apply(lambda x: [str.lower(i.replace(\" \", \"\")) for i in x])"
      ],
      "metadata": {
        "id": "QAzTzu397nHy"
      },
      "execution_count": null,
      "outputs": []
    },
    {
      "cell_type": "code",
      "source": [
        "smd['director'] = smd['director'].astype('str').apply(lambda x: str.lower(x.replace(\" \", \"\")))\n",
        "smd['director'] = smd['director'].apply(lambda x: [x,x,x])"
      ],
      "metadata": {
        "colab": {
          "base_uri": "https://localhost:8080/"
        },
        "id": "OMU7gNXc7vQ-",
        "outputId": "cb9db1d5-c061-4d16-f906-f57ef60310a8"
      },
      "execution_count": null,
      "outputs": [
        {
          "output_type": "stream",
          "name": "stderr",
          "text": [
            "<ipython-input-39-3d2147929872>:1: SettingWithCopyWarning: \n",
            "A value is trying to be set on a copy of a slice from a DataFrame.\n",
            "Try using .loc[row_indexer,col_indexer] = value instead\n",
            "\n",
            "See the caveats in the documentation: https://pandas.pydata.org/pandas-docs/stable/user_guide/indexing.html#returning-a-view-versus-a-copy\n",
            "  smd['director'] = smd['director'].astype('str').apply(lambda x: str.lower(x.replace(\" \", \"\")))\n",
            "<ipython-input-39-3d2147929872>:2: SettingWithCopyWarning: \n",
            "A value is trying to be set on a copy of a slice from a DataFrame.\n",
            "Try using .loc[row_indexer,col_indexer] = value instead\n",
            "\n",
            "See the caveats in the documentation: https://pandas.pydata.org/pandas-docs/stable/user_guide/indexing.html#returning-a-view-versus-a-copy\n",
            "  smd['director'] = smd['director'].apply(lambda x: [x,x,x])\n"
          ]
        }
      ]
    },
    {
      "cell_type": "code",
      "source": [
        "# Frequency counts of every keyword that appears in the dataset\n",
        "s = smd.apply(lambda x: pd.Series(x['keywords']),axis=1).stack().reset_index(level=1, drop=True)\n",
        "s.name = 'keyword'"
      ],
      "metadata": {
        "colab": {
          "base_uri": "https://localhost:8080/"
        },
        "id": "nlFwXzig7zAG",
        "outputId": "536cfc0c-34db-4fc7-fbee-442d6ec710ce"
      },
      "execution_count": null,
      "outputs": [
        {
          "output_type": "stream",
          "name": "stderr",
          "text": [
            "<ipython-input-40-a148473d05e6>:2: FutureWarning: The default dtype for empty Series will be 'object' instead of 'float64' in a future version. Specify a dtype explicitly to silence this warning.\n",
            "  s = smd.apply(lambda x: pd.Series(x['keywords']),axis=1).stack().reset_index(level=1, drop=True)\n"
          ]
        }
      ]
    },
    {
      "cell_type": "code",
      "source": [
        "s = s.value_counts()\n",
        "s[:5]"
      ],
      "metadata": {
        "colab": {
          "base_uri": "https://localhost:8080/"
        },
        "id": "OtY1Yjgd77IO",
        "outputId": "fa88fbf5-6a6a-4088-d0e0-10d9cc0d5a78"
      },
      "execution_count": null,
      "outputs": [
        {
          "output_type": "execute_result",
          "data": {
            "text/plain": [
              "independent film        610\n",
              "woman director          550\n",
              "murder                  399\n",
              "duringcreditsstinger    327\n",
              "based on novel          318\n",
              "Name: keyword, dtype: int64"
            ]
          },
          "metadata": {},
          "execution_count": 41
        }
      ]
    },
    {
      "cell_type": "code",
      "source": [
        "s = s[s > 1]\n",
        "stemmer = SnowballStemmer('english')\n",
        "stemmer.stem('dogs')"
      ],
      "metadata": {
        "colab": {
          "base_uri": "https://localhost:8080/",
          "height": 36
        },
        "id": "H0u0raFV7_PV",
        "outputId": "dc6ac0ae-a3ea-4d8c-af9f-ee427117da89"
      },
      "execution_count": null,
      "outputs": [
        {
          "output_type": "execute_result",
          "data": {
            "text/plain": [
              "'dog'"
            ],
            "application/vnd.google.colaboratory.intrinsic+json": {
              "type": "string"
            }
          },
          "metadata": {},
          "execution_count": 42
        }
      ]
    },
    {
      "cell_type": "code",
      "source": [
        "def filter_keywords(x):\n",
        "    words = []\n",
        "    for i in x:\n",
        "        if i in s:\n",
        "            words.append(i)\n",
        "    return words"
      ],
      "metadata": {
        "id": "QH1mfRwE8cia"
      },
      "execution_count": null,
      "outputs": []
    },
    {
      "cell_type": "code",
      "source": [
        "smd['keywords'] = smd['keywords'].apply(filter_keywords)\n",
        "smd['keywords'] = smd['keywords'].apply(lambda x: [stemmer.stem(i) for i in x])\n",
        "smd['keywords'] = smd['keywords'].apply(lambda x: [str.lower(i.replace(\" \", \"\")) for i in x])"
      ],
      "metadata": {
        "colab": {
          "base_uri": "https://localhost:8080/"
        },
        "id": "VoSLmDg38ffh",
        "outputId": "2734dbfc-6e5b-411b-b5a0-bb2b5886558e"
      },
      "execution_count": null,
      "outputs": [
        {
          "output_type": "stream",
          "name": "stderr",
          "text": [
            "<ipython-input-44-00d9efff34c6>:1: SettingWithCopyWarning: \n",
            "A value is trying to be set on a copy of a slice from a DataFrame.\n",
            "Try using .loc[row_indexer,col_indexer] = value instead\n",
            "\n",
            "See the caveats in the documentation: https://pandas.pydata.org/pandas-docs/stable/user_guide/indexing.html#returning-a-view-versus-a-copy\n",
            "  smd['keywords'] = smd['keywords'].apply(filter_keywords)\n",
            "<ipython-input-44-00d9efff34c6>:2: SettingWithCopyWarning: \n",
            "A value is trying to be set on a copy of a slice from a DataFrame.\n",
            "Try using .loc[row_indexer,col_indexer] = value instead\n",
            "\n",
            "See the caveats in the documentation: https://pandas.pydata.org/pandas-docs/stable/user_guide/indexing.html#returning-a-view-versus-a-copy\n",
            "  smd['keywords'] = smd['keywords'].apply(lambda x: [stemmer.stem(i) for i in x])\n",
            "<ipython-input-44-00d9efff34c6>:3: SettingWithCopyWarning: \n",
            "A value is trying to be set on a copy of a slice from a DataFrame.\n",
            "Try using .loc[row_indexer,col_indexer] = value instead\n",
            "\n",
            "See the caveats in the documentation: https://pandas.pydata.org/pandas-docs/stable/user_guide/indexing.html#returning-a-view-versus-a-copy\n",
            "  smd['keywords'] = smd['keywords'].apply(lambda x: [str.lower(i.replace(\" \", \"\")) for i in x])\n"
          ]
        }
      ]
    },
    {
      "cell_type": "code",
      "source": [
        "smd['soup'] = smd['keywords'] + smd['cast'] + smd['director'] + smd['genres']\n",
        "smd['soup'] = smd['soup'].apply(lambda x: ' '.join(x))"
      ],
      "metadata": {
        "colab": {
          "base_uri": "https://localhost:8080/"
        },
        "id": "9abTNirR8i2H",
        "outputId": "eecb67eb-9894-4a99-ffd7-30274a3ff90b"
      },
      "execution_count": null,
      "outputs": [
        {
          "output_type": "stream",
          "name": "stderr",
          "text": [
            "<ipython-input-45-f6a2aea62dee>:1: SettingWithCopyWarning: \n",
            "A value is trying to be set on a copy of a slice from a DataFrame.\n",
            "Try using .loc[row_indexer,col_indexer] = value instead\n",
            "\n",
            "See the caveats in the documentation: https://pandas.pydata.org/pandas-docs/stable/user_guide/indexing.html#returning-a-view-versus-a-copy\n",
            "  smd['soup'] = smd['keywords'] + smd['cast'] + smd['director'] + smd['genres']\n",
            "<ipython-input-45-f6a2aea62dee>:2: SettingWithCopyWarning: \n",
            "A value is trying to be set on a copy of a slice from a DataFrame.\n",
            "Try using .loc[row_indexer,col_indexer] = value instead\n",
            "\n",
            "See the caveats in the documentation: https://pandas.pydata.org/pandas-docs/stable/user_guide/indexing.html#returning-a-view-versus-a-copy\n",
            "  smd['soup'] = smd['soup'].apply(lambda x: ' '.join(x))\n"
          ]
        }
      ]
    },
    {
      "cell_type": "code",
      "source": [
        "count = CountVectorizer(analyzer='word',ngram_range=(1, 2),min_df=0, stop_words='english')\n",
        "count_matrix = count.fit_transform(smd['soup'])"
      ],
      "metadata": {
        "id": "cQgwx-Ih8l89"
      },
      "execution_count": null,
      "outputs": []
    },
    {
      "cell_type": "code",
      "source": [
        "cosine_sim = cosine_similarity(count_matrix, count_matrix)"
      ],
      "metadata": {
        "id": "smc7jzdY8mJJ"
      },
      "execution_count": null,
      "outputs": []
    },
    {
      "cell_type": "code",
      "source": [
        "smd = smd.reset_index()\n",
        "titles = smd['title']\n",
        "indices = pd.Series(smd.index, index=smd['title'])"
      ],
      "metadata": {
        "id": "z-iu0GVN8ux-"
      },
      "execution_count": null,
      "outputs": []
    },
    {
      "cell_type": "code",
      "source": [
        "get_recommendations('The Dark Knight').head(10)"
      ],
      "metadata": {
        "colab": {
          "base_uri": "https://localhost:8080/"
        },
        "id": "7asVKcRm8xJC",
        "outputId": "5102f6a0-6158-40b3-ada1-971f4af510eb"
      },
      "execution_count": null,
      "outputs": [
        {
          "output_type": "execute_result",
          "data": {
            "text/plain": [
              "8031         The Dark Knight Rises\n",
              "6218                 Batman Begins\n",
              "6623                  The Prestige\n",
              "2085                     Following\n",
              "7648                     Inception\n",
              "4145                      Insomnia\n",
              "3381                       Memento\n",
              "8613                  Interstellar\n",
              "1134                Batman Returns\n",
              "7659    Batman: Under the Red Hood\n",
              "Name: title, dtype: object"
            ]
          },
          "metadata": {},
          "execution_count": 49
        }
      ]
    },
    {
      "cell_type": "code",
      "source": [
        "get_recommendations('Mean Girls').head(10)"
      ],
      "metadata": {
        "colab": {
          "base_uri": "https://localhost:8080/"
        },
        "id": "7B7UJ4yk80RN",
        "outputId": "ceba9c72-89a1-4710-9d44-7941ff2957e4"
      },
      "execution_count": null,
      "outputs": [
        {
          "output_type": "execute_result",
          "data": {
            "text/plain": [
              "3319                         Head Over Heels\n",
              "4763                           Freaky Friday\n",
              "1329                        The House of Yes\n",
              "6277                        Just Like Heaven\n",
              "7905                   Mr. Popper's Penguins\n",
              "7332              Ghosts of Girlfriends Past\n",
              "6959               The Spiderwick Chronicles\n",
              "8883                                The DUFF\n",
              "5152    Confessions of a Teenage Drama Queen\n",
              "6698                   It's a Boy Girl Thing\n",
              "Name: title, dtype: object"
            ]
          },
          "metadata": {},
          "execution_count": 50
        }
      ]
    },
    {
      "cell_type": "markdown",
      "source": [
        "# Popularity and Ratings"
      ],
      "metadata": {
        "id": "kWTOQ91J9HeW"
      }
    },
    {
      "cell_type": "code",
      "source": [
        "# To remove bad movies and return movies which are popular and have had a good critical response\n",
        "# Top 25 movies based on similarity scores and calculate the vote of the 60th percentile movie\n",
        "def improved_recommendations(title):\n",
        "    idx = indices[title]\n",
        "    sim_scores = list(enumerate(cosine_sim[idx]))\n",
        "    sim_scores = sorted(sim_scores, key=lambda x: x[1], reverse=True)\n",
        "    sim_scores = sim_scores[1:26]\n",
        "    movie_indices = [i[0] for i in sim_scores]\n",
        "\n",
        "    movies = smd.iloc[movie_indices][['title', 'vote_count', 'vote_average', 'year']]\n",
        "    vote_counts = movies[movies['vote_count'].notnull()]['vote_count'].astype('int')\n",
        "    vote_averages = movies[movies['vote_average'].notnull()]['vote_average'].astype('int')\n",
        "    C = vote_averages.mean()\n",
        "    m = vote_counts.quantile(0.60)\n",
        "    qualified = movies[(movies['vote_count'] >= m) & (movies['vote_count'].notnull()) & (movies['vote_average'].notnull())]\n",
        "    qualified['vote_count'] = qualified['vote_count'].astype('int')\n",
        "    qualified['vote_average'] = qualified['vote_average'].astype('int')\n",
        "    qualified['wr'] = qualified.apply(weighted_rating, axis=1)\n",
        "    qualified = qualified.sort_values('wr', ascending=False).head(10)\n",
        "    return qualified"
      ],
      "metadata": {
        "id": "cKPDIXLZ88_a"
      },
      "execution_count": null,
      "outputs": []
    },
    {
      "cell_type": "code",
      "source": [
        "improved_recommendations('The Dark Knight')"
      ],
      "metadata": {
        "colab": {
          "base_uri": "https://localhost:8080/",
          "height": 689
        },
        "id": "jQviW1op9dNS",
        "outputId": "5395c288-0d4c-4013-db84-e87556e4e630"
      },
      "execution_count": null,
      "outputs": [
        {
          "output_type": "stream",
          "name": "stderr",
          "text": [
            "<ipython-input-51-ba8593372ac4>:16: SettingWithCopyWarning: \n",
            "A value is trying to be set on a copy of a slice from a DataFrame.\n",
            "Try using .loc[row_indexer,col_indexer] = value instead\n",
            "\n",
            "See the caveats in the documentation: https://pandas.pydata.org/pandas-docs/stable/user_guide/indexing.html#returning-a-view-versus-a-copy\n",
            "  qualified['vote_count'] = qualified['vote_count'].astype('int')\n",
            "<ipython-input-51-ba8593372ac4>:17: SettingWithCopyWarning: \n",
            "A value is trying to be set on a copy of a slice from a DataFrame.\n",
            "Try using .loc[row_indexer,col_indexer] = value instead\n",
            "\n",
            "See the caveats in the documentation: https://pandas.pydata.org/pandas-docs/stable/user_guide/indexing.html#returning-a-view-versus-a-copy\n",
            "  qualified['vote_average'] = qualified['vote_average'].astype('int')\n",
            "<ipython-input-51-ba8593372ac4>:18: SettingWithCopyWarning: \n",
            "A value is trying to be set on a copy of a slice from a DataFrame.\n",
            "Try using .loc[row_indexer,col_indexer] = value instead\n",
            "\n",
            "See the caveats in the documentation: https://pandas.pydata.org/pandas-docs/stable/user_guide/indexing.html#returning-a-view-versus-a-copy\n",
            "  qualified['wr'] = qualified.apply(weighted_rating, axis=1)\n"
          ]
        },
        {
          "output_type": "execute_result",
          "data": {
            "text/plain": [
              "                                   title  vote_count  vote_average  year  \\\n",
              "7648                           Inception       14075             8  2010   \n",
              "8613                        Interstellar       11187             8  2014   \n",
              "6623                        The Prestige        4510             8  2006   \n",
              "3381                             Memento        4168             8  2000   \n",
              "8031               The Dark Knight Rises        9263             7  2012   \n",
              "6218                       Batman Begins        7511             7  2005   \n",
              "524                               Batman        2145             7  1989   \n",
              "6622                     Children of Men        2120             7  2006   \n",
              "8419                        Man of Steel        6462             6  2013   \n",
              "9024  Batman v Superman: Dawn of Justice        7189             5  2016   \n",
              "\n",
              "            wr  \n",
              "7648  7.917588  \n",
              "8613  7.897107  \n",
              "6623  7.758148  \n",
              "3381  7.740175  \n",
              "8031  6.921448  \n",
              "6218  6.904127  \n",
              "524   6.704647  \n",
              "6622  6.701756  \n",
              "8419  5.952478  \n",
              "9024  5.013943  "
            ],
            "text/html": [
              "\n",
              "  <div id=\"df-eacc1810-8f09-44b7-a267-41a9b20872b2\">\n",
              "    <div class=\"colab-df-container\">\n",
              "      <div>\n",
              "<style scoped>\n",
              "    .dataframe tbody tr th:only-of-type {\n",
              "        vertical-align: middle;\n",
              "    }\n",
              "\n",
              "    .dataframe tbody tr th {\n",
              "        vertical-align: top;\n",
              "    }\n",
              "\n",
              "    .dataframe thead th {\n",
              "        text-align: right;\n",
              "    }\n",
              "</style>\n",
              "<table border=\"1\" class=\"dataframe\">\n",
              "  <thead>\n",
              "    <tr style=\"text-align: right;\">\n",
              "      <th></th>\n",
              "      <th>title</th>\n",
              "      <th>vote_count</th>\n",
              "      <th>vote_average</th>\n",
              "      <th>year</th>\n",
              "      <th>wr</th>\n",
              "    </tr>\n",
              "  </thead>\n",
              "  <tbody>\n",
              "    <tr>\n",
              "      <th>7648</th>\n",
              "      <td>Inception</td>\n",
              "      <td>14075</td>\n",
              "      <td>8</td>\n",
              "      <td>2010</td>\n",
              "      <td>7.917588</td>\n",
              "    </tr>\n",
              "    <tr>\n",
              "      <th>8613</th>\n",
              "      <td>Interstellar</td>\n",
              "      <td>11187</td>\n",
              "      <td>8</td>\n",
              "      <td>2014</td>\n",
              "      <td>7.897107</td>\n",
              "    </tr>\n",
              "    <tr>\n",
              "      <th>6623</th>\n",
              "      <td>The Prestige</td>\n",
              "      <td>4510</td>\n",
              "      <td>8</td>\n",
              "      <td>2006</td>\n",
              "      <td>7.758148</td>\n",
              "    </tr>\n",
              "    <tr>\n",
              "      <th>3381</th>\n",
              "      <td>Memento</td>\n",
              "      <td>4168</td>\n",
              "      <td>8</td>\n",
              "      <td>2000</td>\n",
              "      <td>7.740175</td>\n",
              "    </tr>\n",
              "    <tr>\n",
              "      <th>8031</th>\n",
              "      <td>The Dark Knight Rises</td>\n",
              "      <td>9263</td>\n",
              "      <td>7</td>\n",
              "      <td>2012</td>\n",
              "      <td>6.921448</td>\n",
              "    </tr>\n",
              "    <tr>\n",
              "      <th>6218</th>\n",
              "      <td>Batman Begins</td>\n",
              "      <td>7511</td>\n",
              "      <td>7</td>\n",
              "      <td>2005</td>\n",
              "      <td>6.904127</td>\n",
              "    </tr>\n",
              "    <tr>\n",
              "      <th>524</th>\n",
              "      <td>Batman</td>\n",
              "      <td>2145</td>\n",
              "      <td>7</td>\n",
              "      <td>1989</td>\n",
              "      <td>6.704647</td>\n",
              "    </tr>\n",
              "    <tr>\n",
              "      <th>6622</th>\n",
              "      <td>Children of Men</td>\n",
              "      <td>2120</td>\n",
              "      <td>7</td>\n",
              "      <td>2006</td>\n",
              "      <td>6.701756</td>\n",
              "    </tr>\n",
              "    <tr>\n",
              "      <th>8419</th>\n",
              "      <td>Man of Steel</td>\n",
              "      <td>6462</td>\n",
              "      <td>6</td>\n",
              "      <td>2013</td>\n",
              "      <td>5.952478</td>\n",
              "    </tr>\n",
              "    <tr>\n",
              "      <th>9024</th>\n",
              "      <td>Batman v Superman: Dawn of Justice</td>\n",
              "      <td>7189</td>\n",
              "      <td>5</td>\n",
              "      <td>2016</td>\n",
              "      <td>5.013943</td>\n",
              "    </tr>\n",
              "  </tbody>\n",
              "</table>\n",
              "</div>\n",
              "      <button class=\"colab-df-convert\" onclick=\"convertToInteractive('df-eacc1810-8f09-44b7-a267-41a9b20872b2')\"\n",
              "              title=\"Convert this dataframe to an interactive table.\"\n",
              "              style=\"display:none;\">\n",
              "        \n",
              "  <svg xmlns=\"http://www.w3.org/2000/svg\" height=\"24px\"viewBox=\"0 0 24 24\"\n",
              "       width=\"24px\">\n",
              "    <path d=\"M0 0h24v24H0V0z\" fill=\"none\"/>\n",
              "    <path d=\"M18.56 5.44l.94 2.06.94-2.06 2.06-.94-2.06-.94-.94-2.06-.94 2.06-2.06.94zm-11 1L8.5 8.5l.94-2.06 2.06-.94-2.06-.94L8.5 2.5l-.94 2.06-2.06.94zm10 10l.94 2.06.94-2.06 2.06-.94-2.06-.94-.94-2.06-.94 2.06-2.06.94z\"/><path d=\"M17.41 7.96l-1.37-1.37c-.4-.4-.92-.59-1.43-.59-.52 0-1.04.2-1.43.59L10.3 9.45l-7.72 7.72c-.78.78-.78 2.05 0 2.83L4 21.41c.39.39.9.59 1.41.59.51 0 1.02-.2 1.41-.59l7.78-7.78 2.81-2.81c.8-.78.8-2.07 0-2.86zM5.41 20L4 18.59l7.72-7.72 1.47 1.35L5.41 20z\"/>\n",
              "  </svg>\n",
              "      </button>\n",
              "      \n",
              "  <style>\n",
              "    .colab-df-container {\n",
              "      display:flex;\n",
              "      flex-wrap:wrap;\n",
              "      gap: 12px;\n",
              "    }\n",
              "\n",
              "    .colab-df-convert {\n",
              "      background-color: #E8F0FE;\n",
              "      border: none;\n",
              "      border-radius: 50%;\n",
              "      cursor: pointer;\n",
              "      display: none;\n",
              "      fill: #1967D2;\n",
              "      height: 32px;\n",
              "      padding: 0 0 0 0;\n",
              "      width: 32px;\n",
              "    }\n",
              "\n",
              "    .colab-df-convert:hover {\n",
              "      background-color: #E2EBFA;\n",
              "      box-shadow: 0px 1px 2px rgba(60, 64, 67, 0.3), 0px 1px 3px 1px rgba(60, 64, 67, 0.15);\n",
              "      fill: #174EA6;\n",
              "    }\n",
              "\n",
              "    [theme=dark] .colab-df-convert {\n",
              "      background-color: #3B4455;\n",
              "      fill: #D2E3FC;\n",
              "    }\n",
              "\n",
              "    [theme=dark] .colab-df-convert:hover {\n",
              "      background-color: #434B5C;\n",
              "      box-shadow: 0px 1px 3px 1px rgba(0, 0, 0, 0.15);\n",
              "      filter: drop-shadow(0px 1px 2px rgba(0, 0, 0, 0.3));\n",
              "      fill: #FFFFFF;\n",
              "    }\n",
              "  </style>\n",
              "\n",
              "      <script>\n",
              "        const buttonEl =\n",
              "          document.querySelector('#df-eacc1810-8f09-44b7-a267-41a9b20872b2 button.colab-df-convert');\n",
              "        buttonEl.style.display =\n",
              "          google.colab.kernel.accessAllowed ? 'block' : 'none';\n",
              "\n",
              "        async function convertToInteractive(key) {\n",
              "          const element = document.querySelector('#df-eacc1810-8f09-44b7-a267-41a9b20872b2');\n",
              "          const dataTable =\n",
              "            await google.colab.kernel.invokeFunction('convertToInteractive',\n",
              "                                                     [key], {});\n",
              "          if (!dataTable) return;\n",
              "\n",
              "          const docLinkHtml = 'Like what you see? Visit the ' +\n",
              "            '<a target=\"_blank\" href=https://colab.research.google.com/notebooks/data_table.ipynb>data table notebook</a>'\n",
              "            + ' to learn more about interactive tables.';\n",
              "          element.innerHTML = '';\n",
              "          dataTable['output_type'] = 'display_data';\n",
              "          await google.colab.output.renderOutput(dataTable, element);\n",
              "          const docLink = document.createElement('div');\n",
              "          docLink.innerHTML = docLinkHtml;\n",
              "          element.appendChild(docLink);\n",
              "        }\n",
              "      </script>\n",
              "    </div>\n",
              "  </div>\n",
              "  "
            ]
          },
          "metadata": {},
          "execution_count": 52
        }
      ]
    },
    {
      "cell_type": "code",
      "source": [
        "improved_recommendations('Mean Girls')"
      ],
      "metadata": {
        "colab": {
          "base_uri": "https://localhost:8080/",
          "height": 689
        },
        "id": "G_YF6QAe9jcH",
        "outputId": "52ddf242-7c4f-4297-a6f7-2995ed85bd31"
      },
      "execution_count": null,
      "outputs": [
        {
          "output_type": "stream",
          "name": "stderr",
          "text": [
            "<ipython-input-51-ba8593372ac4>:16: SettingWithCopyWarning: \n",
            "A value is trying to be set on a copy of a slice from a DataFrame.\n",
            "Try using .loc[row_indexer,col_indexer] = value instead\n",
            "\n",
            "See the caveats in the documentation: https://pandas.pydata.org/pandas-docs/stable/user_guide/indexing.html#returning-a-view-versus-a-copy\n",
            "  qualified['vote_count'] = qualified['vote_count'].astype('int')\n",
            "<ipython-input-51-ba8593372ac4>:17: SettingWithCopyWarning: \n",
            "A value is trying to be set on a copy of a slice from a DataFrame.\n",
            "Try using .loc[row_indexer,col_indexer] = value instead\n",
            "\n",
            "See the caveats in the documentation: https://pandas.pydata.org/pandas-docs/stable/user_guide/indexing.html#returning-a-view-versus-a-copy\n",
            "  qualified['vote_average'] = qualified['vote_average'].astype('int')\n",
            "<ipython-input-51-ba8593372ac4>:18: SettingWithCopyWarning: \n",
            "A value is trying to be set on a copy of a slice from a DataFrame.\n",
            "Try using .loc[row_indexer,col_indexer] = value instead\n",
            "\n",
            "See the caveats in the documentation: https://pandas.pydata.org/pandas-docs/stable/user_guide/indexing.html#returning-a-view-versus-a-copy\n",
            "  qualified['wr'] = qualified.apply(weighted_rating, axis=1)\n"
          ]
        },
        {
          "output_type": "execute_result",
          "data": {
            "text/plain": [
              "                           title  vote_count  vote_average  year        wr\n",
              "8477                  About Time        2140             7  2013  6.704073\n",
              "8883                    The DUFF        1372             6  2015  5.818541\n",
              "3712        The Princess Diaries        1063             6  2001  5.781086\n",
              "4763               Freaky Friday         919             6  2003  5.757786\n",
              "1637             The Parent Trap         768             6  1998  5.727359\n",
              "6277            Just Like Heaven         595             6  2005  5.681521\n",
              "6959   The Spiderwick Chronicles         593             6  2008  5.680901\n",
              "8989                       Aloha         704             5  2015  5.093396\n",
              "7332  Ghosts of Girlfriends Past         716             5  2009  5.092422\n",
              "7905       Mr. Popper's Penguins         775             5  2011  5.087912"
            ],
            "text/html": [
              "\n",
              "  <div id=\"df-d0afa6f6-b3ee-4a82-9aa8-56bfb28e7f2f\">\n",
              "    <div class=\"colab-df-container\">\n",
              "      <div>\n",
              "<style scoped>\n",
              "    .dataframe tbody tr th:only-of-type {\n",
              "        vertical-align: middle;\n",
              "    }\n",
              "\n",
              "    .dataframe tbody tr th {\n",
              "        vertical-align: top;\n",
              "    }\n",
              "\n",
              "    .dataframe thead th {\n",
              "        text-align: right;\n",
              "    }\n",
              "</style>\n",
              "<table border=\"1\" class=\"dataframe\">\n",
              "  <thead>\n",
              "    <tr style=\"text-align: right;\">\n",
              "      <th></th>\n",
              "      <th>title</th>\n",
              "      <th>vote_count</th>\n",
              "      <th>vote_average</th>\n",
              "      <th>year</th>\n",
              "      <th>wr</th>\n",
              "    </tr>\n",
              "  </thead>\n",
              "  <tbody>\n",
              "    <tr>\n",
              "      <th>8477</th>\n",
              "      <td>About Time</td>\n",
              "      <td>2140</td>\n",
              "      <td>7</td>\n",
              "      <td>2013</td>\n",
              "      <td>6.704073</td>\n",
              "    </tr>\n",
              "    <tr>\n",
              "      <th>8883</th>\n",
              "      <td>The DUFF</td>\n",
              "      <td>1372</td>\n",
              "      <td>6</td>\n",
              "      <td>2015</td>\n",
              "      <td>5.818541</td>\n",
              "    </tr>\n",
              "    <tr>\n",
              "      <th>3712</th>\n",
              "      <td>The Princess Diaries</td>\n",
              "      <td>1063</td>\n",
              "      <td>6</td>\n",
              "      <td>2001</td>\n",
              "      <td>5.781086</td>\n",
              "    </tr>\n",
              "    <tr>\n",
              "      <th>4763</th>\n",
              "      <td>Freaky Friday</td>\n",
              "      <td>919</td>\n",
              "      <td>6</td>\n",
              "      <td>2003</td>\n",
              "      <td>5.757786</td>\n",
              "    </tr>\n",
              "    <tr>\n",
              "      <th>1637</th>\n",
              "      <td>The Parent Trap</td>\n",
              "      <td>768</td>\n",
              "      <td>6</td>\n",
              "      <td>1998</td>\n",
              "      <td>5.727359</td>\n",
              "    </tr>\n",
              "    <tr>\n",
              "      <th>6277</th>\n",
              "      <td>Just Like Heaven</td>\n",
              "      <td>595</td>\n",
              "      <td>6</td>\n",
              "      <td>2005</td>\n",
              "      <td>5.681521</td>\n",
              "    </tr>\n",
              "    <tr>\n",
              "      <th>6959</th>\n",
              "      <td>The Spiderwick Chronicles</td>\n",
              "      <td>593</td>\n",
              "      <td>6</td>\n",
              "      <td>2008</td>\n",
              "      <td>5.680901</td>\n",
              "    </tr>\n",
              "    <tr>\n",
              "      <th>8989</th>\n",
              "      <td>Aloha</td>\n",
              "      <td>704</td>\n",
              "      <td>5</td>\n",
              "      <td>2015</td>\n",
              "      <td>5.093396</td>\n",
              "    </tr>\n",
              "    <tr>\n",
              "      <th>7332</th>\n",
              "      <td>Ghosts of Girlfriends Past</td>\n",
              "      <td>716</td>\n",
              "      <td>5</td>\n",
              "      <td>2009</td>\n",
              "      <td>5.092422</td>\n",
              "    </tr>\n",
              "    <tr>\n",
              "      <th>7905</th>\n",
              "      <td>Mr. Popper's Penguins</td>\n",
              "      <td>775</td>\n",
              "      <td>5</td>\n",
              "      <td>2011</td>\n",
              "      <td>5.087912</td>\n",
              "    </tr>\n",
              "  </tbody>\n",
              "</table>\n",
              "</div>\n",
              "      <button class=\"colab-df-convert\" onclick=\"convertToInteractive('df-d0afa6f6-b3ee-4a82-9aa8-56bfb28e7f2f')\"\n",
              "              title=\"Convert this dataframe to an interactive table.\"\n",
              "              style=\"display:none;\">\n",
              "        \n",
              "  <svg xmlns=\"http://www.w3.org/2000/svg\" height=\"24px\"viewBox=\"0 0 24 24\"\n",
              "       width=\"24px\">\n",
              "    <path d=\"M0 0h24v24H0V0z\" fill=\"none\"/>\n",
              "    <path d=\"M18.56 5.44l.94 2.06.94-2.06 2.06-.94-2.06-.94-.94-2.06-.94 2.06-2.06.94zm-11 1L8.5 8.5l.94-2.06 2.06-.94-2.06-.94L8.5 2.5l-.94 2.06-2.06.94zm10 10l.94 2.06.94-2.06 2.06-.94-2.06-.94-.94-2.06-.94 2.06-2.06.94z\"/><path d=\"M17.41 7.96l-1.37-1.37c-.4-.4-.92-.59-1.43-.59-.52 0-1.04.2-1.43.59L10.3 9.45l-7.72 7.72c-.78.78-.78 2.05 0 2.83L4 21.41c.39.39.9.59 1.41.59.51 0 1.02-.2 1.41-.59l7.78-7.78 2.81-2.81c.8-.78.8-2.07 0-2.86zM5.41 20L4 18.59l7.72-7.72 1.47 1.35L5.41 20z\"/>\n",
              "  </svg>\n",
              "      </button>\n",
              "      \n",
              "  <style>\n",
              "    .colab-df-container {\n",
              "      display:flex;\n",
              "      flex-wrap:wrap;\n",
              "      gap: 12px;\n",
              "    }\n",
              "\n",
              "    .colab-df-convert {\n",
              "      background-color: #E8F0FE;\n",
              "      border: none;\n",
              "      border-radius: 50%;\n",
              "      cursor: pointer;\n",
              "      display: none;\n",
              "      fill: #1967D2;\n",
              "      height: 32px;\n",
              "      padding: 0 0 0 0;\n",
              "      width: 32px;\n",
              "    }\n",
              "\n",
              "    .colab-df-convert:hover {\n",
              "      background-color: #E2EBFA;\n",
              "      box-shadow: 0px 1px 2px rgba(60, 64, 67, 0.3), 0px 1px 3px 1px rgba(60, 64, 67, 0.15);\n",
              "      fill: #174EA6;\n",
              "    }\n",
              "\n",
              "    [theme=dark] .colab-df-convert {\n",
              "      background-color: #3B4455;\n",
              "      fill: #D2E3FC;\n",
              "    }\n",
              "\n",
              "    [theme=dark] .colab-df-convert:hover {\n",
              "      background-color: #434B5C;\n",
              "      box-shadow: 0px 1px 3px 1px rgba(0, 0, 0, 0.15);\n",
              "      filter: drop-shadow(0px 1px 2px rgba(0, 0, 0, 0.3));\n",
              "      fill: #FFFFFF;\n",
              "    }\n",
              "  </style>\n",
              "\n",
              "      <script>\n",
              "        const buttonEl =\n",
              "          document.querySelector('#df-d0afa6f6-b3ee-4a82-9aa8-56bfb28e7f2f button.colab-df-convert');\n",
              "        buttonEl.style.display =\n",
              "          google.colab.kernel.accessAllowed ? 'block' : 'none';\n",
              "\n",
              "        async function convertToInteractive(key) {\n",
              "          const element = document.querySelector('#df-d0afa6f6-b3ee-4a82-9aa8-56bfb28e7f2f');\n",
              "          const dataTable =\n",
              "            await google.colab.kernel.invokeFunction('convertToInteractive',\n",
              "                                                     [key], {});\n",
              "          if (!dataTable) return;\n",
              "\n",
              "          const docLinkHtml = 'Like what you see? Visit the ' +\n",
              "            '<a target=\"_blank\" href=https://colab.research.google.com/notebooks/data_table.ipynb>data table notebook</a>'\n",
              "            + ' to learn more about interactive tables.';\n",
              "          element.innerHTML = '';\n",
              "          dataTable['output_type'] = 'display_data';\n",
              "          await google.colab.output.renderOutput(dataTable, element);\n",
              "          const docLink = document.createElement('div');\n",
              "          docLink.innerHTML = docLinkHtml;\n",
              "          element.appendChild(docLink);\n",
              "        }\n",
              "      </script>\n",
              "    </div>\n",
              "  </div>\n",
              "  "
            ]
          },
          "metadata": {},
          "execution_count": 53
        }
      ]
    },
    {
      "cell_type": "markdown",
      "source": [
        "# Collaborative Filtering"
      ],
      "metadata": {
        "id": "2mqb93dh91ay"
      }
    },
    {
      "cell_type": "code",
      "source": [
        "# It is only capable of suggesting movies which are close to a certain movie. That is, it is not capable of capturing tastes and providing recommendations across genres.\n",
        "# It doesn't capture the personal tastes and biases of a user.\n",
        "# Collaborative Filtering is based on the idea that users similar to a me can be used to predict how much I will like a particular product or service those users have\n",
        "# used/experienced but I have not.\n",
        "# Will use the Surprise library that used extremely powerful algorithms like Singular Value Decomposition (SVD) to minimise RMSE (Root Mean Square Error) and give\n",
        "# great recommendations.\n",
        "reader = Reader()\n",
        "ratings = pd.read_csv('ratings_small.csv')\n",
        "ratings.head()"
      ],
      "metadata": {
        "colab": {
          "base_uri": "https://localhost:8080/",
          "height": 206
        },
        "id": "isxzC47K94rd",
        "outputId": "b2c3c7c3-1d85-4b56-9096-6a5a58d2ffd4"
      },
      "execution_count": null,
      "outputs": [
        {
          "output_type": "execute_result",
          "data": {
            "text/plain": [
              "   userId  movieId  rating   timestamp\n",
              "0       1       31     2.5  1260759144\n",
              "1       1     1029     3.0  1260759179\n",
              "2       1     1061     3.0  1260759182\n",
              "3       1     1129     2.0  1260759185\n",
              "4       1     1172     4.0  1260759205"
            ],
            "text/html": [
              "\n",
              "  <div id=\"df-fc527ce5-7d5e-4fe6-8e2a-34a0ca676258\">\n",
              "    <div class=\"colab-df-container\">\n",
              "      <div>\n",
              "<style scoped>\n",
              "    .dataframe tbody tr th:only-of-type {\n",
              "        vertical-align: middle;\n",
              "    }\n",
              "\n",
              "    .dataframe tbody tr th {\n",
              "        vertical-align: top;\n",
              "    }\n",
              "\n",
              "    .dataframe thead th {\n",
              "        text-align: right;\n",
              "    }\n",
              "</style>\n",
              "<table border=\"1\" class=\"dataframe\">\n",
              "  <thead>\n",
              "    <tr style=\"text-align: right;\">\n",
              "      <th></th>\n",
              "      <th>userId</th>\n",
              "      <th>movieId</th>\n",
              "      <th>rating</th>\n",
              "      <th>timestamp</th>\n",
              "    </tr>\n",
              "  </thead>\n",
              "  <tbody>\n",
              "    <tr>\n",
              "      <th>0</th>\n",
              "      <td>1</td>\n",
              "      <td>31</td>\n",
              "      <td>2.5</td>\n",
              "      <td>1260759144</td>\n",
              "    </tr>\n",
              "    <tr>\n",
              "      <th>1</th>\n",
              "      <td>1</td>\n",
              "      <td>1029</td>\n",
              "      <td>3.0</td>\n",
              "      <td>1260759179</td>\n",
              "    </tr>\n",
              "    <tr>\n",
              "      <th>2</th>\n",
              "      <td>1</td>\n",
              "      <td>1061</td>\n",
              "      <td>3.0</td>\n",
              "      <td>1260759182</td>\n",
              "    </tr>\n",
              "    <tr>\n",
              "      <th>3</th>\n",
              "      <td>1</td>\n",
              "      <td>1129</td>\n",
              "      <td>2.0</td>\n",
              "      <td>1260759185</td>\n",
              "    </tr>\n",
              "    <tr>\n",
              "      <th>4</th>\n",
              "      <td>1</td>\n",
              "      <td>1172</td>\n",
              "      <td>4.0</td>\n",
              "      <td>1260759205</td>\n",
              "    </tr>\n",
              "  </tbody>\n",
              "</table>\n",
              "</div>\n",
              "      <button class=\"colab-df-convert\" onclick=\"convertToInteractive('df-fc527ce5-7d5e-4fe6-8e2a-34a0ca676258')\"\n",
              "              title=\"Convert this dataframe to an interactive table.\"\n",
              "              style=\"display:none;\">\n",
              "        \n",
              "  <svg xmlns=\"http://www.w3.org/2000/svg\" height=\"24px\"viewBox=\"0 0 24 24\"\n",
              "       width=\"24px\">\n",
              "    <path d=\"M0 0h24v24H0V0z\" fill=\"none\"/>\n",
              "    <path d=\"M18.56 5.44l.94 2.06.94-2.06 2.06-.94-2.06-.94-.94-2.06-.94 2.06-2.06.94zm-11 1L8.5 8.5l.94-2.06 2.06-.94-2.06-.94L8.5 2.5l-.94 2.06-2.06.94zm10 10l.94 2.06.94-2.06 2.06-.94-2.06-.94-.94-2.06-.94 2.06-2.06.94z\"/><path d=\"M17.41 7.96l-1.37-1.37c-.4-.4-.92-.59-1.43-.59-.52 0-1.04.2-1.43.59L10.3 9.45l-7.72 7.72c-.78.78-.78 2.05 0 2.83L4 21.41c.39.39.9.59 1.41.59.51 0 1.02-.2 1.41-.59l7.78-7.78 2.81-2.81c.8-.78.8-2.07 0-2.86zM5.41 20L4 18.59l7.72-7.72 1.47 1.35L5.41 20z\"/>\n",
              "  </svg>\n",
              "      </button>\n",
              "      \n",
              "  <style>\n",
              "    .colab-df-container {\n",
              "      display:flex;\n",
              "      flex-wrap:wrap;\n",
              "      gap: 12px;\n",
              "    }\n",
              "\n",
              "    .colab-df-convert {\n",
              "      background-color: #E8F0FE;\n",
              "      border: none;\n",
              "      border-radius: 50%;\n",
              "      cursor: pointer;\n",
              "      display: none;\n",
              "      fill: #1967D2;\n",
              "      height: 32px;\n",
              "      padding: 0 0 0 0;\n",
              "      width: 32px;\n",
              "    }\n",
              "\n",
              "    .colab-df-convert:hover {\n",
              "      background-color: #E2EBFA;\n",
              "      box-shadow: 0px 1px 2px rgba(60, 64, 67, 0.3), 0px 1px 3px 1px rgba(60, 64, 67, 0.15);\n",
              "      fill: #174EA6;\n",
              "    }\n",
              "\n",
              "    [theme=dark] .colab-df-convert {\n",
              "      background-color: #3B4455;\n",
              "      fill: #D2E3FC;\n",
              "    }\n",
              "\n",
              "    [theme=dark] .colab-df-convert:hover {\n",
              "      background-color: #434B5C;\n",
              "      box-shadow: 0px 1px 3px 1px rgba(0, 0, 0, 0.15);\n",
              "      filter: drop-shadow(0px 1px 2px rgba(0, 0, 0, 0.3));\n",
              "      fill: #FFFFFF;\n",
              "    }\n",
              "  </style>\n",
              "\n",
              "      <script>\n",
              "        const buttonEl =\n",
              "          document.querySelector('#df-fc527ce5-7d5e-4fe6-8e2a-34a0ca676258 button.colab-df-convert');\n",
              "        buttonEl.style.display =\n",
              "          google.colab.kernel.accessAllowed ? 'block' : 'none';\n",
              "\n",
              "        async function convertToInteractive(key) {\n",
              "          const element = document.querySelector('#df-fc527ce5-7d5e-4fe6-8e2a-34a0ca676258');\n",
              "          const dataTable =\n",
              "            await google.colab.kernel.invokeFunction('convertToInteractive',\n",
              "                                                     [key], {});\n",
              "          if (!dataTable) return;\n",
              "\n",
              "          const docLinkHtml = 'Like what you see? Visit the ' +\n",
              "            '<a target=\"_blank\" href=https://colab.research.google.com/notebooks/data_table.ipynb>data table notebook</a>'\n",
              "            + ' to learn more about interactive tables.';\n",
              "          element.innerHTML = '';\n",
              "          dataTable['output_type'] = 'display_data';\n",
              "          await google.colab.output.renderOutput(dataTable, element);\n",
              "          const docLink = document.createElement('div');\n",
              "          docLink.innerHTML = docLinkHtml;\n",
              "          element.appendChild(docLink);\n",
              "        }\n",
              "      </script>\n",
              "    </div>\n",
              "  </div>\n",
              "  "
            ]
          },
          "metadata": {},
          "execution_count": 54
        }
      ]
    },
    {
      "cell_type": "code",
      "source": [
        "data = Dataset.load_from_df(ratings[['userId', 'movieId', 'rating']], reader) # 'reader' object parse the data, 'load_from_df' loading a dataset\n",
        "algo = SVD()\n",
        "cross_validate(algo,data,measures=['RMSE', 'MAE'],cv=5)# Dataset should be divided into 5 folds or subsets"
      ],
      "metadata": {
        "colab": {
          "base_uri": "https://localhost:8080/"
        },
        "id": "g7ADhg8Vk-1B",
        "outputId": "a7e545e5-48b2-4c02-a3c6-e00b157299bf"
      },
      "execution_count": null,
      "outputs": [
        {
          "output_type": "execute_result",
          "data": {
            "text/plain": [
              "{'test_rmse': array([0.90101262, 0.90027612, 0.90228534, 0.89287828, 0.88821936]),\n",
              " 'test_mae': array([0.6937788 , 0.69210486, 0.69492677, 0.68701575, 0.68300692]),\n",
              " 'fit_time': (1.582681655883789,\n",
              "  1.575164794921875,\n",
              "  1.5846455097198486,\n",
              "  2.1850333213806152,\n",
              "  1.795497179031372),\n",
              " 'test_time': (0.1516122817993164,\n",
              "  0.22351765632629395,\n",
              "  0.1568002700805664,\n",
              "  0.24959301948547363,\n",
              "  0.17103886604309082)}"
            ]
          },
          "metadata": {},
          "execution_count": 55
        }
      ]
    },
    {
      "cell_type": "code",
      "source": [
        "ratings[ratings['userId'] == 1]"
      ],
      "metadata": {
        "id": "BkSx9Hkzlg11",
        "colab": {
          "base_uri": "https://localhost:8080/",
          "height": 676
        },
        "outputId": "42cc91a5-0b3a-42a6-c3ff-2f10fd11c117"
      },
      "execution_count": null,
      "outputs": [
        {
          "output_type": "execute_result",
          "data": {
            "text/plain": [
              "    userId  movieId  rating   timestamp\n",
              "0        1       31     2.5  1260759144\n",
              "1        1     1029     3.0  1260759179\n",
              "2        1     1061     3.0  1260759182\n",
              "3        1     1129     2.0  1260759185\n",
              "4        1     1172     4.0  1260759205\n",
              "5        1     1263     2.0  1260759151\n",
              "6        1     1287     2.0  1260759187\n",
              "7        1     1293     2.0  1260759148\n",
              "8        1     1339     3.5  1260759125\n",
              "9        1     1343     2.0  1260759131\n",
              "10       1     1371     2.5  1260759135\n",
              "11       1     1405     1.0  1260759203\n",
              "12       1     1953     4.0  1260759191\n",
              "13       1     2105     4.0  1260759139\n",
              "14       1     2150     3.0  1260759194\n",
              "15       1     2193     2.0  1260759198\n",
              "16       1     2294     2.0  1260759108\n",
              "17       1     2455     2.5  1260759113\n",
              "18       1     2968     1.0  1260759200\n",
              "19       1     3671     3.0  1260759117"
            ],
            "text/html": [
              "\n",
              "  <div id=\"df-6e6d8d7e-7c99-4fde-b41d-bad378f3c1fc\">\n",
              "    <div class=\"colab-df-container\">\n",
              "      <div>\n",
              "<style scoped>\n",
              "    .dataframe tbody tr th:only-of-type {\n",
              "        vertical-align: middle;\n",
              "    }\n",
              "\n",
              "    .dataframe tbody tr th {\n",
              "        vertical-align: top;\n",
              "    }\n",
              "\n",
              "    .dataframe thead th {\n",
              "        text-align: right;\n",
              "    }\n",
              "</style>\n",
              "<table border=\"1\" class=\"dataframe\">\n",
              "  <thead>\n",
              "    <tr style=\"text-align: right;\">\n",
              "      <th></th>\n",
              "      <th>userId</th>\n",
              "      <th>movieId</th>\n",
              "      <th>rating</th>\n",
              "      <th>timestamp</th>\n",
              "    </tr>\n",
              "  </thead>\n",
              "  <tbody>\n",
              "    <tr>\n",
              "      <th>0</th>\n",
              "      <td>1</td>\n",
              "      <td>31</td>\n",
              "      <td>2.5</td>\n",
              "      <td>1260759144</td>\n",
              "    </tr>\n",
              "    <tr>\n",
              "      <th>1</th>\n",
              "      <td>1</td>\n",
              "      <td>1029</td>\n",
              "      <td>3.0</td>\n",
              "      <td>1260759179</td>\n",
              "    </tr>\n",
              "    <tr>\n",
              "      <th>2</th>\n",
              "      <td>1</td>\n",
              "      <td>1061</td>\n",
              "      <td>3.0</td>\n",
              "      <td>1260759182</td>\n",
              "    </tr>\n",
              "    <tr>\n",
              "      <th>3</th>\n",
              "      <td>1</td>\n",
              "      <td>1129</td>\n",
              "      <td>2.0</td>\n",
              "      <td>1260759185</td>\n",
              "    </tr>\n",
              "    <tr>\n",
              "      <th>4</th>\n",
              "      <td>1</td>\n",
              "      <td>1172</td>\n",
              "      <td>4.0</td>\n",
              "      <td>1260759205</td>\n",
              "    </tr>\n",
              "    <tr>\n",
              "      <th>5</th>\n",
              "      <td>1</td>\n",
              "      <td>1263</td>\n",
              "      <td>2.0</td>\n",
              "      <td>1260759151</td>\n",
              "    </tr>\n",
              "    <tr>\n",
              "      <th>6</th>\n",
              "      <td>1</td>\n",
              "      <td>1287</td>\n",
              "      <td>2.0</td>\n",
              "      <td>1260759187</td>\n",
              "    </tr>\n",
              "    <tr>\n",
              "      <th>7</th>\n",
              "      <td>1</td>\n",
              "      <td>1293</td>\n",
              "      <td>2.0</td>\n",
              "      <td>1260759148</td>\n",
              "    </tr>\n",
              "    <tr>\n",
              "      <th>8</th>\n",
              "      <td>1</td>\n",
              "      <td>1339</td>\n",
              "      <td>3.5</td>\n",
              "      <td>1260759125</td>\n",
              "    </tr>\n",
              "    <tr>\n",
              "      <th>9</th>\n",
              "      <td>1</td>\n",
              "      <td>1343</td>\n",
              "      <td>2.0</td>\n",
              "      <td>1260759131</td>\n",
              "    </tr>\n",
              "    <tr>\n",
              "      <th>10</th>\n",
              "      <td>1</td>\n",
              "      <td>1371</td>\n",
              "      <td>2.5</td>\n",
              "      <td>1260759135</td>\n",
              "    </tr>\n",
              "    <tr>\n",
              "      <th>11</th>\n",
              "      <td>1</td>\n",
              "      <td>1405</td>\n",
              "      <td>1.0</td>\n",
              "      <td>1260759203</td>\n",
              "    </tr>\n",
              "    <tr>\n",
              "      <th>12</th>\n",
              "      <td>1</td>\n",
              "      <td>1953</td>\n",
              "      <td>4.0</td>\n",
              "      <td>1260759191</td>\n",
              "    </tr>\n",
              "    <tr>\n",
              "      <th>13</th>\n",
              "      <td>1</td>\n",
              "      <td>2105</td>\n",
              "      <td>4.0</td>\n",
              "      <td>1260759139</td>\n",
              "    </tr>\n",
              "    <tr>\n",
              "      <th>14</th>\n",
              "      <td>1</td>\n",
              "      <td>2150</td>\n",
              "      <td>3.0</td>\n",
              "      <td>1260759194</td>\n",
              "    </tr>\n",
              "    <tr>\n",
              "      <th>15</th>\n",
              "      <td>1</td>\n",
              "      <td>2193</td>\n",
              "      <td>2.0</td>\n",
              "      <td>1260759198</td>\n",
              "    </tr>\n",
              "    <tr>\n",
              "      <th>16</th>\n",
              "      <td>1</td>\n",
              "      <td>2294</td>\n",
              "      <td>2.0</td>\n",
              "      <td>1260759108</td>\n",
              "    </tr>\n",
              "    <tr>\n",
              "      <th>17</th>\n",
              "      <td>1</td>\n",
              "      <td>2455</td>\n",
              "      <td>2.5</td>\n",
              "      <td>1260759113</td>\n",
              "    </tr>\n",
              "    <tr>\n",
              "      <th>18</th>\n",
              "      <td>1</td>\n",
              "      <td>2968</td>\n",
              "      <td>1.0</td>\n",
              "      <td>1260759200</td>\n",
              "    </tr>\n",
              "    <tr>\n",
              "      <th>19</th>\n",
              "      <td>1</td>\n",
              "      <td>3671</td>\n",
              "      <td>3.0</td>\n",
              "      <td>1260759117</td>\n",
              "    </tr>\n",
              "  </tbody>\n",
              "</table>\n",
              "</div>\n",
              "      <button class=\"colab-df-convert\" onclick=\"convertToInteractive('df-6e6d8d7e-7c99-4fde-b41d-bad378f3c1fc')\"\n",
              "              title=\"Convert this dataframe to an interactive table.\"\n",
              "              style=\"display:none;\">\n",
              "        \n",
              "  <svg xmlns=\"http://www.w3.org/2000/svg\" height=\"24px\"viewBox=\"0 0 24 24\"\n",
              "       width=\"24px\">\n",
              "    <path d=\"M0 0h24v24H0V0z\" fill=\"none\"/>\n",
              "    <path d=\"M18.56 5.44l.94 2.06.94-2.06 2.06-.94-2.06-.94-.94-2.06-.94 2.06-2.06.94zm-11 1L8.5 8.5l.94-2.06 2.06-.94-2.06-.94L8.5 2.5l-.94 2.06-2.06.94zm10 10l.94 2.06.94-2.06 2.06-.94-2.06-.94-.94-2.06-.94 2.06-2.06.94z\"/><path d=\"M17.41 7.96l-1.37-1.37c-.4-.4-.92-.59-1.43-.59-.52 0-1.04.2-1.43.59L10.3 9.45l-7.72 7.72c-.78.78-.78 2.05 0 2.83L4 21.41c.39.39.9.59 1.41.59.51 0 1.02-.2 1.41-.59l7.78-7.78 2.81-2.81c.8-.78.8-2.07 0-2.86zM5.41 20L4 18.59l7.72-7.72 1.47 1.35L5.41 20z\"/>\n",
              "  </svg>\n",
              "      </button>\n",
              "      \n",
              "  <style>\n",
              "    .colab-df-container {\n",
              "      display:flex;\n",
              "      flex-wrap:wrap;\n",
              "      gap: 12px;\n",
              "    }\n",
              "\n",
              "    .colab-df-convert {\n",
              "      background-color: #E8F0FE;\n",
              "      border: none;\n",
              "      border-radius: 50%;\n",
              "      cursor: pointer;\n",
              "      display: none;\n",
              "      fill: #1967D2;\n",
              "      height: 32px;\n",
              "      padding: 0 0 0 0;\n",
              "      width: 32px;\n",
              "    }\n",
              "\n",
              "    .colab-df-convert:hover {\n",
              "      background-color: #E2EBFA;\n",
              "      box-shadow: 0px 1px 2px rgba(60, 64, 67, 0.3), 0px 1px 3px 1px rgba(60, 64, 67, 0.15);\n",
              "      fill: #174EA6;\n",
              "    }\n",
              "\n",
              "    [theme=dark] .colab-df-convert {\n",
              "      background-color: #3B4455;\n",
              "      fill: #D2E3FC;\n",
              "    }\n",
              "\n",
              "    [theme=dark] .colab-df-convert:hover {\n",
              "      background-color: #434B5C;\n",
              "      box-shadow: 0px 1px 3px 1px rgba(0, 0, 0, 0.15);\n",
              "      filter: drop-shadow(0px 1px 2px rgba(0, 0, 0, 0.3));\n",
              "      fill: #FFFFFF;\n",
              "    }\n",
              "  </style>\n",
              "\n",
              "      <script>\n",
              "        const buttonEl =\n",
              "          document.querySelector('#df-6e6d8d7e-7c99-4fde-b41d-bad378f3c1fc button.colab-df-convert');\n",
              "        buttonEl.style.display =\n",
              "          google.colab.kernel.accessAllowed ? 'block' : 'none';\n",
              "\n",
              "        async function convertToInteractive(key) {\n",
              "          const element = document.querySelector('#df-6e6d8d7e-7c99-4fde-b41d-bad378f3c1fc');\n",
              "          const dataTable =\n",
              "            await google.colab.kernel.invokeFunction('convertToInteractive',\n",
              "                                                     [key], {});\n",
              "          if (!dataTable) return;\n",
              "\n",
              "          const docLinkHtml = 'Like what you see? Visit the ' +\n",
              "            '<a target=\"_blank\" href=https://colab.research.google.com/notebooks/data_table.ipynb>data table notebook</a>'\n",
              "            + ' to learn more about interactive tables.';\n",
              "          element.innerHTML = '';\n",
              "          dataTable['output_type'] = 'display_data';\n",
              "          await google.colab.output.renderOutput(dataTable, element);\n",
              "          const docLink = document.createElement('div');\n",
              "          docLink.innerHTML = docLinkHtml;\n",
              "          element.appendChild(docLink);\n",
              "        }\n",
              "      </script>\n",
              "    </div>\n",
              "  </div>\n",
              "  "
            ]
          },
          "metadata": {},
          "execution_count": 57
        }
      ]
    },
    {
      "cell_type": "code",
      "source": [
        "algo.predict(1, 302, 3) # Prediction object that includes the estimated rating and other relevant information such as the user and item IDs"
      ],
      "metadata": {
        "id": "SljHfsyGloWF",
        "colab": {
          "base_uri": "https://localhost:8080/"
        },
        "outputId": "70a542a5-6b4c-4375-d24a-f7bc64c6b91d"
      },
      "execution_count": null,
      "outputs": [
        {
          "output_type": "execute_result",
          "data": {
            "text/plain": [
              "Prediction(uid=1, iid=302, r_ui=3, est=2.8858528352056987, details={'was_impossible': False})"
            ]
          },
          "metadata": {},
          "execution_count": 58
        }
      ]
    },
    {
      "cell_type": "markdown",
      "source": [
        "# Hybrid Recommender"
      ],
      "metadata": {
        "id": "TnTeSNfIl6y1"
      }
    },
    {
      "cell_type": "code",
      "source": [
        "# Input: User ID and the Title of a Movie\n",
        "# Output: Similar movies sorted on the basis of expected ratings by that particular user."
      ],
      "metadata": {
        "id": "gZR6WPu2l5Qd"
      },
      "execution_count": null,
      "outputs": []
    },
    {
      "cell_type": "code",
      "source": [
        "def convert_int(x):\n",
        "    try:\n",
        "        return int(x)\n",
        "    except:\n",
        "        return np.nan"
      ],
      "metadata": {
        "id": "f1Yn9BhPsN4h"
      },
      "execution_count": null,
      "outputs": []
    },
    {
      "cell_type": "code",
      "source": [
        "id_map = pd.read_csv('links_small.csv')[['movieId', 'tmdbId']]\n",
        "id_map['tmdbId'] = id_map['tmdbId'].apply(convert_int)\n",
        "id_map.columns = ['movieId', 'id']\n",
        "id_map = id_map.merge(smd[['title', 'id']], on='id').set_index('title')"
      ],
      "metadata": {
        "id": "a9qIrNmBsitt"
      },
      "execution_count": null,
      "outputs": []
    },
    {
      "cell_type": "code",
      "source": [
        "indices_map = id_map.set_index('id')"
      ],
      "metadata": {
        "id": "Y0_CQufdtOTp"
      },
      "execution_count": null,
      "outputs": []
    },
    {
      "cell_type": "code",
      "source": [
        "def hybrid(userId, title):\n",
        "    idx = indices[title]\n",
        "    tmdbId = id_map.loc[title]['id']\n",
        "    movie_id = id_map.loc[title]['movieId']\n",
        "\n",
        "    sim_scores = list(enumerate(cosine_sim[int(idx)]))\n",
        "    sim_scores = sorted(sim_scores, key=lambda x: x[1], reverse=True)\n",
        "    sim_scores = sim_scores[1:26]\n",
        "    movie_indices = [i[0] for i in sim_scores]\n",
        "\n",
        "    movies = smd.iloc[movie_indices][['title', 'vote_count', 'vote_average', 'year', 'id']]\n",
        "    movies['est'] = movies['id'].apply(lambda x: algo.predict(userId, indices_map.loc[x]['movieId']).est)\n",
        "    movies = movies.sort_values('est', ascending=False)\n",
        "    return movies.head(10)"
      ],
      "metadata": {
        "id": "m7nglLk3tYse"
      },
      "execution_count": null,
      "outputs": []
    },
    {
      "cell_type": "code",
      "source": [
        "hybrid(1, 'Avatar')"
      ],
      "metadata": {
        "id": "mmrHX5o6tcBq",
        "colab": {
          "base_uri": "https://localhost:8080/",
          "height": 363
        },
        "outputId": "f5d5f906-6adc-4b1e-df16-ef1e6105d5e7"
      },
      "execution_count": null,
      "outputs": [
        {
          "output_type": "execute_result",
          "data": {
            "text/plain": [
              "                                title  vote_count  vote_average  year      id  \\\n",
              "522        Terminator 2: Judgment Day      4274.0           7.7  1991     280   \n",
              "987                             Alien      4564.0           7.9  1979     348   \n",
              "974                            Aliens      3282.0           7.7  1986     679   \n",
              "8712          Guardians of the Galaxy     10014.0           7.9  2014  118340   \n",
              "1011                   The Terminator      4208.0           7.4  1984     218   \n",
              "8658       X-Men: Days of Future Past      6155.0           7.5  2014  127585   \n",
              "8401          Star Trek Into Darkness      4479.0           7.4  2013   54138   \n",
              "922                         The Abyss       822.0           7.1  1989    2756   \n",
              "344                         True Lies      1138.0           6.8  1994   36955   \n",
              "3060  Sinbad and the Eye of the Tiger        39.0           6.3  1977   11940   \n",
              "\n",
              "           est  \n",
              "522   3.317610  \n",
              "987   3.096684  \n",
              "974   3.094385  \n",
              "8712  3.090789  \n",
              "1011  3.026396  \n",
              "8658  2.999707  \n",
              "8401  2.939852  \n",
              "922   2.884762  \n",
              "344   2.808110  \n",
              "3060  2.766567  "
            ],
            "text/html": [
              "\n",
              "  <div id=\"df-bc7ab36e-a070-4eee-933c-339704bab944\">\n",
              "    <div class=\"colab-df-container\">\n",
              "      <div>\n",
              "<style scoped>\n",
              "    .dataframe tbody tr th:only-of-type {\n",
              "        vertical-align: middle;\n",
              "    }\n",
              "\n",
              "    .dataframe tbody tr th {\n",
              "        vertical-align: top;\n",
              "    }\n",
              "\n",
              "    .dataframe thead th {\n",
              "        text-align: right;\n",
              "    }\n",
              "</style>\n",
              "<table border=\"1\" class=\"dataframe\">\n",
              "  <thead>\n",
              "    <tr style=\"text-align: right;\">\n",
              "      <th></th>\n",
              "      <th>title</th>\n",
              "      <th>vote_count</th>\n",
              "      <th>vote_average</th>\n",
              "      <th>year</th>\n",
              "      <th>id</th>\n",
              "      <th>est</th>\n",
              "    </tr>\n",
              "  </thead>\n",
              "  <tbody>\n",
              "    <tr>\n",
              "      <th>522</th>\n",
              "      <td>Terminator 2: Judgment Day</td>\n",
              "      <td>4274.0</td>\n",
              "      <td>7.7</td>\n",
              "      <td>1991</td>\n",
              "      <td>280</td>\n",
              "      <td>3.317610</td>\n",
              "    </tr>\n",
              "    <tr>\n",
              "      <th>987</th>\n",
              "      <td>Alien</td>\n",
              "      <td>4564.0</td>\n",
              "      <td>7.9</td>\n",
              "      <td>1979</td>\n",
              "      <td>348</td>\n",
              "      <td>3.096684</td>\n",
              "    </tr>\n",
              "    <tr>\n",
              "      <th>974</th>\n",
              "      <td>Aliens</td>\n",
              "      <td>3282.0</td>\n",
              "      <td>7.7</td>\n",
              "      <td>1986</td>\n",
              "      <td>679</td>\n",
              "      <td>3.094385</td>\n",
              "    </tr>\n",
              "    <tr>\n",
              "      <th>8712</th>\n",
              "      <td>Guardians of the Galaxy</td>\n",
              "      <td>10014.0</td>\n",
              "      <td>7.9</td>\n",
              "      <td>2014</td>\n",
              "      <td>118340</td>\n",
              "      <td>3.090789</td>\n",
              "    </tr>\n",
              "    <tr>\n",
              "      <th>1011</th>\n",
              "      <td>The Terminator</td>\n",
              "      <td>4208.0</td>\n",
              "      <td>7.4</td>\n",
              "      <td>1984</td>\n",
              "      <td>218</td>\n",
              "      <td>3.026396</td>\n",
              "    </tr>\n",
              "    <tr>\n",
              "      <th>8658</th>\n",
              "      <td>X-Men: Days of Future Past</td>\n",
              "      <td>6155.0</td>\n",
              "      <td>7.5</td>\n",
              "      <td>2014</td>\n",
              "      <td>127585</td>\n",
              "      <td>2.999707</td>\n",
              "    </tr>\n",
              "    <tr>\n",
              "      <th>8401</th>\n",
              "      <td>Star Trek Into Darkness</td>\n",
              "      <td>4479.0</td>\n",
              "      <td>7.4</td>\n",
              "      <td>2013</td>\n",
              "      <td>54138</td>\n",
              "      <td>2.939852</td>\n",
              "    </tr>\n",
              "    <tr>\n",
              "      <th>922</th>\n",
              "      <td>The Abyss</td>\n",
              "      <td>822.0</td>\n",
              "      <td>7.1</td>\n",
              "      <td>1989</td>\n",
              "      <td>2756</td>\n",
              "      <td>2.884762</td>\n",
              "    </tr>\n",
              "    <tr>\n",
              "      <th>344</th>\n",
              "      <td>True Lies</td>\n",
              "      <td>1138.0</td>\n",
              "      <td>6.8</td>\n",
              "      <td>1994</td>\n",
              "      <td>36955</td>\n",
              "      <td>2.808110</td>\n",
              "    </tr>\n",
              "    <tr>\n",
              "      <th>3060</th>\n",
              "      <td>Sinbad and the Eye of the Tiger</td>\n",
              "      <td>39.0</td>\n",
              "      <td>6.3</td>\n",
              "      <td>1977</td>\n",
              "      <td>11940</td>\n",
              "      <td>2.766567</td>\n",
              "    </tr>\n",
              "  </tbody>\n",
              "</table>\n",
              "</div>\n",
              "      <button class=\"colab-df-convert\" onclick=\"convertToInteractive('df-bc7ab36e-a070-4eee-933c-339704bab944')\"\n",
              "              title=\"Convert this dataframe to an interactive table.\"\n",
              "              style=\"display:none;\">\n",
              "        \n",
              "  <svg xmlns=\"http://www.w3.org/2000/svg\" height=\"24px\"viewBox=\"0 0 24 24\"\n",
              "       width=\"24px\">\n",
              "    <path d=\"M0 0h24v24H0V0z\" fill=\"none\"/>\n",
              "    <path d=\"M18.56 5.44l.94 2.06.94-2.06 2.06-.94-2.06-.94-.94-2.06-.94 2.06-2.06.94zm-11 1L8.5 8.5l.94-2.06 2.06-.94-2.06-.94L8.5 2.5l-.94 2.06-2.06.94zm10 10l.94 2.06.94-2.06 2.06-.94-2.06-.94-.94-2.06-.94 2.06-2.06.94z\"/><path d=\"M17.41 7.96l-1.37-1.37c-.4-.4-.92-.59-1.43-.59-.52 0-1.04.2-1.43.59L10.3 9.45l-7.72 7.72c-.78.78-.78 2.05 0 2.83L4 21.41c.39.39.9.59 1.41.59.51 0 1.02-.2 1.41-.59l7.78-7.78 2.81-2.81c.8-.78.8-2.07 0-2.86zM5.41 20L4 18.59l7.72-7.72 1.47 1.35L5.41 20z\"/>\n",
              "  </svg>\n",
              "      </button>\n",
              "      \n",
              "  <style>\n",
              "    .colab-df-container {\n",
              "      display:flex;\n",
              "      flex-wrap:wrap;\n",
              "      gap: 12px;\n",
              "    }\n",
              "\n",
              "    .colab-df-convert {\n",
              "      background-color: #E8F0FE;\n",
              "      border: none;\n",
              "      border-radius: 50%;\n",
              "      cursor: pointer;\n",
              "      display: none;\n",
              "      fill: #1967D2;\n",
              "      height: 32px;\n",
              "      padding: 0 0 0 0;\n",
              "      width: 32px;\n",
              "    }\n",
              "\n",
              "    .colab-df-convert:hover {\n",
              "      background-color: #E2EBFA;\n",
              "      box-shadow: 0px 1px 2px rgba(60, 64, 67, 0.3), 0px 1px 3px 1px rgba(60, 64, 67, 0.15);\n",
              "      fill: #174EA6;\n",
              "    }\n",
              "\n",
              "    [theme=dark] .colab-df-convert {\n",
              "      background-color: #3B4455;\n",
              "      fill: #D2E3FC;\n",
              "    }\n",
              "\n",
              "    [theme=dark] .colab-df-convert:hover {\n",
              "      background-color: #434B5C;\n",
              "      box-shadow: 0px 1px 3px 1px rgba(0, 0, 0, 0.15);\n",
              "      filter: drop-shadow(0px 1px 2px rgba(0, 0, 0, 0.3));\n",
              "      fill: #FFFFFF;\n",
              "    }\n",
              "  </style>\n",
              "\n",
              "      <script>\n",
              "        const buttonEl =\n",
              "          document.querySelector('#df-bc7ab36e-a070-4eee-933c-339704bab944 button.colab-df-convert');\n",
              "        buttonEl.style.display =\n",
              "          google.colab.kernel.accessAllowed ? 'block' : 'none';\n",
              "\n",
              "        async function convertToInteractive(key) {\n",
              "          const element = document.querySelector('#df-bc7ab36e-a070-4eee-933c-339704bab944');\n",
              "          const dataTable =\n",
              "            await google.colab.kernel.invokeFunction('convertToInteractive',\n",
              "                                                     [key], {});\n",
              "          if (!dataTable) return;\n",
              "\n",
              "          const docLinkHtml = 'Like what you see? Visit the ' +\n",
              "            '<a target=\"_blank\" href=https://colab.research.google.com/notebooks/data_table.ipynb>data table notebook</a>'\n",
              "            + ' to learn more about interactive tables.';\n",
              "          element.innerHTML = '';\n",
              "          dataTable['output_type'] = 'display_data';\n",
              "          await google.colab.output.renderOutput(dataTable, element);\n",
              "          const docLink = document.createElement('div');\n",
              "          docLink.innerHTML = docLinkHtml;\n",
              "          element.appendChild(docLink);\n",
              "        }\n",
              "      </script>\n",
              "    </div>\n",
              "  </div>\n",
              "  "
            ]
          },
          "metadata": {},
          "execution_count": 63
        }
      ]
    },
    {
      "cell_type": "code",
      "source": [
        "hybrid(500, 'Avatar')"
      ],
      "metadata": {
        "id": "X-6E51HXthgy",
        "colab": {
          "base_uri": "https://localhost:8080/",
          "height": 363
        },
        "outputId": "81860510-66a0-41d4-f13c-f3954308009f"
      },
      "execution_count": null,
      "outputs": [
        {
          "output_type": "execute_result",
          "data": {
            "text/plain": [
              "                               title  vote_count  vote_average  year      id  \\\n",
              "987                            Alien      4564.0           7.9  1979     348   \n",
              "344                        True Lies      1138.0           6.8  1994   36955   \n",
              "8401         Star Trek Into Darkness      4479.0           7.4  2013   54138   \n",
              "1376                         Titanic      7770.0           7.5  1997     597   \n",
              "4966            Hercules in New York        63.0           3.7  1969    5227   \n",
              "1011                  The Terminator      4208.0           7.4  1984     218   \n",
              "8658      X-Men: Days of Future Past      6155.0           7.5  2014  127585   \n",
              "8712         Guardians of the Galaxy     10014.0           7.9  2014  118340   \n",
              "4347  Piranha Part Two: The Spawning        41.0           3.9  1981   31646   \n",
              "974                           Aliens      3282.0           7.7  1986     679   \n",
              "\n",
              "           est  \n",
              "987   3.254155  \n",
              "344   3.193163  \n",
              "8401  3.160905  \n",
              "1376  3.116604  \n",
              "4966  3.087747  \n",
              "1011  3.075410  \n",
              "8658  3.051907  \n",
              "8712  3.013420  \n",
              "4347  2.973374  \n",
              "974   2.957701  "
            ],
            "text/html": [
              "\n",
              "  <div id=\"df-f788ea35-3653-44cd-a5bf-fb51c4713d05\">\n",
              "    <div class=\"colab-df-container\">\n",
              "      <div>\n",
              "<style scoped>\n",
              "    .dataframe tbody tr th:only-of-type {\n",
              "        vertical-align: middle;\n",
              "    }\n",
              "\n",
              "    .dataframe tbody tr th {\n",
              "        vertical-align: top;\n",
              "    }\n",
              "\n",
              "    .dataframe thead th {\n",
              "        text-align: right;\n",
              "    }\n",
              "</style>\n",
              "<table border=\"1\" class=\"dataframe\">\n",
              "  <thead>\n",
              "    <tr style=\"text-align: right;\">\n",
              "      <th></th>\n",
              "      <th>title</th>\n",
              "      <th>vote_count</th>\n",
              "      <th>vote_average</th>\n",
              "      <th>year</th>\n",
              "      <th>id</th>\n",
              "      <th>est</th>\n",
              "    </tr>\n",
              "  </thead>\n",
              "  <tbody>\n",
              "    <tr>\n",
              "      <th>987</th>\n",
              "      <td>Alien</td>\n",
              "      <td>4564.0</td>\n",
              "      <td>7.9</td>\n",
              "      <td>1979</td>\n",
              "      <td>348</td>\n",
              "      <td>3.254155</td>\n",
              "    </tr>\n",
              "    <tr>\n",
              "      <th>344</th>\n",
              "      <td>True Lies</td>\n",
              "      <td>1138.0</td>\n",
              "      <td>6.8</td>\n",
              "      <td>1994</td>\n",
              "      <td>36955</td>\n",
              "      <td>3.193163</td>\n",
              "    </tr>\n",
              "    <tr>\n",
              "      <th>8401</th>\n",
              "      <td>Star Trek Into Darkness</td>\n",
              "      <td>4479.0</td>\n",
              "      <td>7.4</td>\n",
              "      <td>2013</td>\n",
              "      <td>54138</td>\n",
              "      <td>3.160905</td>\n",
              "    </tr>\n",
              "    <tr>\n",
              "      <th>1376</th>\n",
              "      <td>Titanic</td>\n",
              "      <td>7770.0</td>\n",
              "      <td>7.5</td>\n",
              "      <td>1997</td>\n",
              "      <td>597</td>\n",
              "      <td>3.116604</td>\n",
              "    </tr>\n",
              "    <tr>\n",
              "      <th>4966</th>\n",
              "      <td>Hercules in New York</td>\n",
              "      <td>63.0</td>\n",
              "      <td>3.7</td>\n",
              "      <td>1969</td>\n",
              "      <td>5227</td>\n",
              "      <td>3.087747</td>\n",
              "    </tr>\n",
              "    <tr>\n",
              "      <th>1011</th>\n",
              "      <td>The Terminator</td>\n",
              "      <td>4208.0</td>\n",
              "      <td>7.4</td>\n",
              "      <td>1984</td>\n",
              "      <td>218</td>\n",
              "      <td>3.075410</td>\n",
              "    </tr>\n",
              "    <tr>\n",
              "      <th>8658</th>\n",
              "      <td>X-Men: Days of Future Past</td>\n",
              "      <td>6155.0</td>\n",
              "      <td>7.5</td>\n",
              "      <td>2014</td>\n",
              "      <td>127585</td>\n",
              "      <td>3.051907</td>\n",
              "    </tr>\n",
              "    <tr>\n",
              "      <th>8712</th>\n",
              "      <td>Guardians of the Galaxy</td>\n",
              "      <td>10014.0</td>\n",
              "      <td>7.9</td>\n",
              "      <td>2014</td>\n",
              "      <td>118340</td>\n",
              "      <td>3.013420</td>\n",
              "    </tr>\n",
              "    <tr>\n",
              "      <th>4347</th>\n",
              "      <td>Piranha Part Two: The Spawning</td>\n",
              "      <td>41.0</td>\n",
              "      <td>3.9</td>\n",
              "      <td>1981</td>\n",
              "      <td>31646</td>\n",
              "      <td>2.973374</td>\n",
              "    </tr>\n",
              "    <tr>\n",
              "      <th>974</th>\n",
              "      <td>Aliens</td>\n",
              "      <td>3282.0</td>\n",
              "      <td>7.7</td>\n",
              "      <td>1986</td>\n",
              "      <td>679</td>\n",
              "      <td>2.957701</td>\n",
              "    </tr>\n",
              "  </tbody>\n",
              "</table>\n",
              "</div>\n",
              "      <button class=\"colab-df-convert\" onclick=\"convertToInteractive('df-f788ea35-3653-44cd-a5bf-fb51c4713d05')\"\n",
              "              title=\"Convert this dataframe to an interactive table.\"\n",
              "              style=\"display:none;\">\n",
              "        \n",
              "  <svg xmlns=\"http://www.w3.org/2000/svg\" height=\"24px\"viewBox=\"0 0 24 24\"\n",
              "       width=\"24px\">\n",
              "    <path d=\"M0 0h24v24H0V0z\" fill=\"none\"/>\n",
              "    <path d=\"M18.56 5.44l.94 2.06.94-2.06 2.06-.94-2.06-.94-.94-2.06-.94 2.06-2.06.94zm-11 1L8.5 8.5l.94-2.06 2.06-.94-2.06-.94L8.5 2.5l-.94 2.06-2.06.94zm10 10l.94 2.06.94-2.06 2.06-.94-2.06-.94-.94-2.06-.94 2.06-2.06.94z\"/><path d=\"M17.41 7.96l-1.37-1.37c-.4-.4-.92-.59-1.43-.59-.52 0-1.04.2-1.43.59L10.3 9.45l-7.72 7.72c-.78.78-.78 2.05 0 2.83L4 21.41c.39.39.9.59 1.41.59.51 0 1.02-.2 1.41-.59l7.78-7.78 2.81-2.81c.8-.78.8-2.07 0-2.86zM5.41 20L4 18.59l7.72-7.72 1.47 1.35L5.41 20z\"/>\n",
              "  </svg>\n",
              "      </button>\n",
              "      \n",
              "  <style>\n",
              "    .colab-df-container {\n",
              "      display:flex;\n",
              "      flex-wrap:wrap;\n",
              "      gap: 12px;\n",
              "    }\n",
              "\n",
              "    .colab-df-convert {\n",
              "      background-color: #E8F0FE;\n",
              "      border: none;\n",
              "      border-radius: 50%;\n",
              "      cursor: pointer;\n",
              "      display: none;\n",
              "      fill: #1967D2;\n",
              "      height: 32px;\n",
              "      padding: 0 0 0 0;\n",
              "      width: 32px;\n",
              "    }\n",
              "\n",
              "    .colab-df-convert:hover {\n",
              "      background-color: #E2EBFA;\n",
              "      box-shadow: 0px 1px 2px rgba(60, 64, 67, 0.3), 0px 1px 3px 1px rgba(60, 64, 67, 0.15);\n",
              "      fill: #174EA6;\n",
              "    }\n",
              "\n",
              "    [theme=dark] .colab-df-convert {\n",
              "      background-color: #3B4455;\n",
              "      fill: #D2E3FC;\n",
              "    }\n",
              "\n",
              "    [theme=dark] .colab-df-convert:hover {\n",
              "      background-color: #434B5C;\n",
              "      box-shadow: 0px 1px 3px 1px rgba(0, 0, 0, 0.15);\n",
              "      filter: drop-shadow(0px 1px 2px rgba(0, 0, 0, 0.3));\n",
              "      fill: #FFFFFF;\n",
              "    }\n",
              "  </style>\n",
              "\n",
              "      <script>\n",
              "        const buttonEl =\n",
              "          document.querySelector('#df-f788ea35-3653-44cd-a5bf-fb51c4713d05 button.colab-df-convert');\n",
              "        buttonEl.style.display =\n",
              "          google.colab.kernel.accessAllowed ? 'block' : 'none';\n",
              "\n",
              "        async function convertToInteractive(key) {\n",
              "          const element = document.querySelector('#df-f788ea35-3653-44cd-a5bf-fb51c4713d05');\n",
              "          const dataTable =\n",
              "            await google.colab.kernel.invokeFunction('convertToInteractive',\n",
              "                                                     [key], {});\n",
              "          if (!dataTable) return;\n",
              "\n",
              "          const docLinkHtml = 'Like what you see? Visit the ' +\n",
              "            '<a target=\"_blank\" href=https://colab.research.google.com/notebooks/data_table.ipynb>data table notebook</a>'\n",
              "            + ' to learn more about interactive tables.';\n",
              "          element.innerHTML = '';\n",
              "          dataTable['output_type'] = 'display_data';\n",
              "          await google.colab.output.renderOutput(dataTable, element);\n",
              "          const docLink = document.createElement('div');\n",
              "          docLink.innerHTML = docLinkHtml;\n",
              "          element.appendChild(docLink);\n",
              "        }\n",
              "      </script>\n",
              "    </div>\n",
              "  </div>\n",
              "  "
            ]
          },
          "metadata": {},
          "execution_count": 64
        }
      ]
    },
    {
      "cell_type": "code",
      "source": [
        "# 1) Simple Recommender: This system used overall TMDB Vote Count and Vote Averages to build Top Movies Charts, in general and\n",
        "# for a specific genre. The IMDB Weighted Rating System was used to calculate ratings on which the sorting was finally performed.\n",
        "# 2) Content Based Recommender: We built two content based engines; one that took movie overview and taglines as input and the other\n",
        "# which took metadata such as cast, crew, genre and keywords to come up with predictions. We also deviced a simple filter to give greater\n",
        "# preference to movies with more votes and higher ratings.\n",
        "# 3) Collaborative Filtering: We used the powerful Surprise Library to build a collaborative filter based on single value decomposition.\n",
        "# The RMSE obtained was less than 1 and the engine gave estimated ratings for a given user and movie.\n",
        "# 4) Hybrid Engine: We brought together ideas from content and collaborative filterting to build an engine that gave movie suggestions to\n",
        "# a particular user based on the estimated ratings that it had internally calculated for that user."
      ],
      "metadata": {
        "id": "g4i-aYOauARO"
      },
      "execution_count": null,
      "outputs": []
    }
  ]
}